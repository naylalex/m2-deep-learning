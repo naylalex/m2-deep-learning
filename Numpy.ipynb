{
 "cells": [
  {
   "cell_type": "markdown",
   "metadata": {},
   "source": [
    "# NuPy (Numerical Python)\n",
    "## Introducción\n",
    "### ¿Qué es?\n",
    "NumPy es el paquete fundamental para cómputo científico en Python. Es una librería que provee de un objeto tipo arreglo multidimensional y varios objetos derivados tales como arreglos enmascarados y matrices, así como rutinas para operaciones ágiles con arreglos, incluyendo matemáticas, lógicas, manipulación de formas, ordenamiento, selección, I/O, transformadas discretas de Fourier, álgebra lineal básica, operaciones estadísticas básicas, simulación de valores aleatorios y más.\n",
    "\n",
    "### Beneficios\n",
    "* La estructura de datos ndarray es más eficiente para almacenar y manejar datos numéricos, en comparación con las estructuras de la distribución estándar de Python.\n",
    "* Las librerías escritas en lenguajes de bajo nivel -tales como C- pueden operar con datos almacenados en el ndarray de Numpy sin tener que copiar datos.\n",
    "\n",
    "## Estructura de datos (ndarray)\n",
    "### Concepto\n",
    "Arreglo multidimensional rápido y eficiente respecto al almacenamiento, el cual puede funcionar para almacenar datos homogéneos. Provee de operaciones aritméticas con soporte a vectorización.\n",
    "\n",
    "### Crear ndarray"
   ]
  },
  {
   "cell_type": "code",
   "execution_count": 1,
   "metadata": {},
   "outputs": [
    {
     "data": {
      "text/plain": [
       "array([0, 1, 2, 3, 4, 5, 6, 7, 8, 9])"
      ]
     },
     "execution_count": 1,
     "metadata": {},
     "output_type": "execute_result"
    }
   ],
   "source": [
    "import numpy as np\n",
    "#Crear un ndarray\n",
    "r = range(10)\n",
    "np.array(r)\n"
   ]
  },
  {
   "cell_type": "markdown",
   "metadata": {},
   "source": [
    "### Crer NdArray personalizados"
   ]
  },
  {
   "cell_type": "code",
   "execution_count": 2,
   "metadata": {},
   "outputs": [
    {
     "data": {
      "text/plain": [
       "array([0., 0., 0., 0., 0., 0., 0., 0., 0., 0.])"
      ]
     },
     "execution_count": 2,
     "metadata": {},
     "output_type": "execute_result"
    }
   ],
   "source": [
    "#Arreglo de una dimensión con 10 elementos con valor 0.\n",
    "np.zeros(10)"
   ]
  },
  {
   "cell_type": "code",
   "execution_count": 3,
   "metadata": {},
   "outputs": [
    {
     "data": {
      "text/plain": [
       "array([[1., 1., 1.],\n",
       "       [1., 1., 1.]])"
      ]
     },
     "execution_count": 3,
     "metadata": {},
     "output_type": "execute_result"
    }
   ],
   "source": [
    "# Arreglo de dos dimensiones con 6 elementos con valor 1.\n",
    "np.ones((2,3))"
   ]
  },
  {
   "cell_type": "code",
   "execution_count": 4,
   "metadata": {},
   "outputs": [
    {
     "data": {
      "text/plain": [
       "array([[-0.89354492, -1.47190172,  0.76316343],\n",
       "       [-0.05820717, -0.51414603, -1.10076855]])"
      ]
     },
     "execution_count": 4,
     "metadata": {},
     "output_type": "execute_result"
    }
   ],
   "source": [
    "# Arreglo de dos dimensiones con valores aleatorios\n",
    "randarray = np.random.randn(2,3)\n",
    "randarray"
   ]
  },
  {
   "cell_type": "code",
   "execution_count": 5,
   "metadata": {},
   "outputs": [
    {
     "data": {
      "text/plain": [
       "array([[[9.47563246e-312, 9.47557515e-312, 3.16202013e-322,\n",
       "         1.79334108e-309, 8.48828113e-314],\n",
       "        [2.71615461e-312, 0.00000000e+000, 6.54897132e-308,\n",
       "         8.48798317e-314, 3.16202013e-322],\n",
       "        [6.54302548e-308, 6.36726715e-314, 2.71615461e-312,\n",
       "         0.00000000e+000,             nan],\n",
       "        [8.48798316e-314, 3.16202013e-322,             nan,\n",
       "         6.36598737e-314, 2.71615461e-312]],\n",
       "\n",
       "       [[0.00000000e+000,             nan, 8.48798316e-314,\n",
       "         3.16202013e-322,             nan],\n",
       "        [6.36598737e-314, 1.35807731e-312, 0.00000000e+000,\n",
       "                     nan, 8.48798316e-314],\n",
       "        [3.16202013e-322,             nan, 6.36598737e-314,\n",
       "         1.35807731e-312, 0.00000000e+000],\n",
       "        [            nan, 8.48798316e-314, 3.16202013e-322,\n",
       "                     nan, 6.36598737e-314]],\n",
       "\n",
       "       [[1.35807731e-312, 0.00000000e+000,             nan,\n",
       "         8.48798316e-314, 3.16202013e-322],\n",
       "        [            nan, 6.36598737e-314, 1.35807731e-312,\n",
       "         0.00000000e+000,             nan],\n",
       "        [8.48798316e-314, 3.16202013e-322, 0.00000000e+000,\n",
       "         0.00000000e+000, 0.00000000e+000],\n",
       "        [0.00000000e+000, 0.00000000e+000, 0.00000000e+000,\n",
       "         0.00000000e+000, 1.12693730e-306]]])"
      ]
     },
     "execution_count": 5,
     "metadata": {},
     "output_type": "execute_result"
    }
   ],
   "source": [
    "#Arreglo de tres dimensiones con valores no inicializados\n",
    "np.empty((3,4,5))\n",
    "#La función empty no garantiza regresar valores cero"
   ]
  },
  {
   "cell_type": "code",
   "execution_count": 6,
   "metadata": {},
   "outputs": [
    {
     "data": {
      "text/plain": [
       "array([0, 1, 2, 3, 4])"
      ]
     },
     "execution_count": 6,
     "metadata": {},
     "output_type": "execute_result"
    }
   ],
   "source": [
    "# Versión de ndarray de la función range de Python\n",
    "np.arange(5)"
   ]
  },
  {
   "cell_type": "code",
   "execution_count": 7,
   "metadata": {},
   "outputs": [
    {
     "data": {
      "text/plain": [
       "(3, 4, 5)"
      ]
     },
     "execution_count": 7,
     "metadata": {},
     "output_type": "execute_result"
    }
   ],
   "source": [
    "# Obtener el número de dimensiones\n",
    "somearray = np.empty((3,4,5))\n",
    "somearray.shape"
   ]
  },
  {
   "cell_type": "code",
   "execution_count": 8,
   "metadata": {},
   "outputs": [
    {
     "data": {
      "text/plain": [
       "dtype('float64')"
      ]
     },
     "execution_count": 8,
     "metadata": {},
     "output_type": "execute_result"
    }
   ],
   "source": [
    "# Obtener el tipo de datos\n",
    "somearray.dtype"
   ]
  },
  {
   "cell_type": "code",
   "execution_count": 9,
   "metadata": {},
   "outputs": [
    {
     "name": "stderr",
     "output_type": "stream",
     "text": [
      "C:\\Users\\Marciano\\AppData\\Local\\Temp\\ipykernel_17456\\2496454525.py:2: RuntimeWarning: invalid value encountered in cast\n",
      "  somearray2 = somearray.astype(np.int32)\n"
     ]
    },
    {
     "data": {
      "text/plain": [
       "array([[[          0,           0,           0,           0,\n",
       "                   0],\n",
       "        [          0, -2147483648,           0,           0,\n",
       "                   0],\n",
       "        [-2147483648,           0, -2147483648,           0,\n",
       "                   0],\n",
       "        [-2147483648,           0,           0,           0,\n",
       "                   0]],\n",
       "\n",
       "       [[          0, -2147483648,           0,           0,\n",
       "                   0],\n",
       "        [          0,           0,           0,           0,\n",
       "                   0],\n",
       "        [-2147483648, -2147483648,           0,           0,\n",
       "                   0],\n",
       "        [          0, -2147483648,           0,           0,\n",
       "                   0]],\n",
       "\n",
       "       [[          0,           0, -2147483648, -2147483648,\n",
       "         -2147483648],\n",
       "        [          0,           0, -2147483648,           0,\n",
       "         -2147483648],\n",
       "        [          0,           0, -2147483648,           0,\n",
       "         -2147483648],\n",
       "        [          0, -2147483648, -2147483648, -2147483648,\n",
       "                   0]]])"
      ]
     },
     "execution_count": 9,
     "metadata": {},
     "output_type": "execute_result"
    }
   ],
   "source": [
    "# Casting explícito\n",
    "somearray2 = somearray.astype(np.int32)\n",
    "somearray2.dtype\n",
    "somearray2"
   ]
  },
  {
   "cell_type": "markdown",
   "metadata": {},
   "source": [
    "## Slicing (índices y subconjuntos)\n",
    "\n",
    "* Slicing provee de una vista de los datos originales. No se copian los datos. Cualquier modificación a la vista se verá reflejada en los datos originales.\n",
    "* Es posible llevar a cabo una copia de los datos por medio de la función copy."
   ]
  },
  {
   "cell_type": "code",
   "execution_count": 10,
   "metadata": {},
   "outputs": [
    {
     "data": {
      "text/plain": [
       "<function ndarray.copy>"
      ]
     },
     "execution_count": 10,
     "metadata": {},
     "output_type": "execute_result"
    }
   ],
   "source": [
    "#Copia explícita\n",
    "somearray[2:6].copy"
   ]
  },
  {
   "cell_type": "code",
   "execution_count": 11,
   "metadata": {},
   "outputs": [
    {
     "data": {
      "text/plain": [
       "9.475560124166e-312"
      ]
     },
     "execution_count": 11,
     "metadata": {},
     "output_type": "execute_result"
    }
   ],
   "source": [
    "#El indexado de arreglos multidimensionales puede tener dos formas\n",
    "somearray[0][0][0]"
   ]
  },
  {
   "cell_type": "code",
   "execution_count": 12,
   "metadata": {},
   "outputs": [
    {
     "data": {
      "text/plain": [
       "9.475560124166e-312"
      ]
     },
     "execution_count": 12,
     "metadata": {},
     "output_type": "execute_result"
    }
   ],
   "source": [
    "somearray[0,0,0]"
   ]
  },
  {
   "cell_type": "markdown",
   "metadata": {},
   "source": [
    "## Transposición\n",
    "Una forma especial de cambio de forma que regresa una vsita de los datos, no copia."
   ]
  },
  {
   "cell_type": "code",
   "execution_count": 13,
   "metadata": {},
   "outputs": [
    {
     "data": {
      "text/plain": [
       "array([[ 1.17018056, -0.23635896,  0.64757156,  0.2440005 ],\n",
       "       [ 0.8973778 ,  0.7527344 ,  0.22886596, -0.39648576],\n",
       "       [-0.16497717, -0.98080635, -0.19733729,  0.05076796]])"
      ]
     },
     "execution_count": 13,
     "metadata": {},
     "output_type": "execute_result"
    }
   ],
   "source": [
    "transposeme = np.random.randn(3,4)\n",
    "transposeme"
   ]
  },
  {
   "cell_type": "code",
   "execution_count": 14,
   "metadata": {},
   "outputs": [
    {
     "data": {
      "text/plain": [
       "array([[ 1.17018056,  0.8973778 , -0.16497717],\n",
       "       [-0.23635896,  0.7527344 , -0.98080635],\n",
       "       [ 0.64757156,  0.22886596, -0.19733729],\n",
       "       [ 0.2440005 , -0.39648576,  0.05076796]])"
      ]
     },
     "execution_count": 14,
     "metadata": {},
     "output_type": "execute_result"
    }
   ],
   "source": [
    "transposeme.T"
   ]
  },
  {
   "cell_type": "code",
   "execution_count": 15,
   "metadata": {},
   "outputs": [
    {
     "data": {
      "text/plain": [
       "array([[ 1.17018056,  0.8973778 , -0.16497717],\n",
       "       [-0.23635896,  0.7527344 , -0.98080635],\n",
       "       [ 0.64757156,  0.22886596, -0.19733729],\n",
       "       [ 0.2440005 , -0.39648576,  0.05076796]])"
      ]
     },
     "execution_count": 15,
     "metadata": {},
     "output_type": "execute_result"
    }
   ],
   "source": [
    "transposeme.transpose()"
   ]
  },
  {
   "cell_type": "code",
   "execution_count": 16,
   "metadata": {},
   "outputs": [
    {
     "data": {
      "text/plain": [
       "array([[ 1.17018056,  0.8973778 , -0.16497717],\n",
       "       [-0.23635896,  0.7527344 , -0.98080635],\n",
       "       [ 0.64757156,  0.22886596, -0.19733729],\n",
       "       [ 0.2440005 , -0.39648576,  0.05076796]])"
      ]
     },
     "execution_count": 16,
     "metadata": {},
     "output_type": "execute_result"
    }
   ],
   "source": [
    "transposeme.swapaxes(0,1)"
   ]
  },
  {
   "cell_type": "markdown",
   "metadata": {},
   "source": [
    "## Envolventes (wrappers) para funciones de Python que procesan datos escalares"
   ]
  },
  {
   "cell_type": "code",
   "execution_count": 17,
   "metadata": {},
   "outputs": [
    {
     "data": {
      "text/plain": [
       "array([[0.4853768 , 0.54669704, 0.63091637],\n",
       "       [0.99422354, 0.94167243, 0.27167836],\n",
       "       [0.14174163, 0.5900368 , 0.93445929],\n",
       "       [0.68619089, 0.97147088, 0.72738247]])"
      ]
     },
     "execution_count": 17,
     "metadata": {},
     "output_type": "execute_result"
    }
   ],
   "source": [
    "wrapme = np.random.rand(4,3)\n",
    "wrapme"
   ]
  },
  {
   "cell_type": "code",
   "execution_count": 18,
   "metadata": {},
   "outputs": [
    {
     "data": {
      "text/plain": [
       "3.1606961258558215"
      ]
     },
     "execution_count": 18,
     "metadata": {},
     "output_type": "execute_result"
    }
   ],
   "source": [
    "import math\n",
    "math.sqrt(9.99)"
   ]
  },
  {
   "cell_type": "code",
   "execution_count": 19,
   "metadata": {},
   "outputs": [
    {
     "ename": "TypeError",
     "evalue": "only length-1 arrays can be converted to Python scalars",
     "output_type": "error",
     "traceback": [
      "\u001b[1;31m---------------------------------------------------------------------------\u001b[0m",
      "\u001b[1;31mTypeError\u001b[0m                                 Traceback (most recent call last)",
      "\u001b[1;32mc:\\src\\naylalex\\m2-deep-learning\\Numpy.ipynb Cell 24\u001b[0m line \u001b[0;36m1\n\u001b[1;32m----> <a href='vscode-notebook-cell:/c%3A/src/naylalex/m2-deep-learning/Numpy.ipynb#X32sZmlsZQ%3D%3D?line=0'>1</a>\u001b[0m math\u001b[39m.\u001b[39msqrt(wrapme)\n",
      "\u001b[1;31mTypeError\u001b[0m: only length-1 arrays can be converted to Python scalars"
     ]
    }
   ],
   "source": [
    "math.sqrt(wrapme) # Produce error de tiempo de ejecución"
   ]
  },
  {
   "cell_type": "code",
   "execution_count": 20,
   "metadata": {},
   "outputs": [
    {
     "data": {
      "text/plain": [
       "array([[0.69668989, 0.73938964, 0.79430245],\n",
       "       [0.99710759, 0.97039808, 0.52122774],\n",
       "       [0.37648589, 0.76813853, 0.96667434],\n",
       "       [0.8283664 , 0.98563222, 0.8528672 ]])"
      ]
     },
     "execution_count": 20,
     "metadata": {},
     "output_type": "execute_result"
    }
   ],
   "source": [
    "np.sqrt(wrapme)"
   ]
  },
  {
   "cell_type": "markdown",
   "metadata": {},
   "source": [
    "## Broadcasting\n",
    "Es posible crear expresiones en Python donde se combinen variables de múltiples dimensiones con operadores y variables escalares"
   ]
  },
  {
   "cell_type": "markdown",
   "metadata": {},
   "source": [
    "### Operaciones aritméticas con un arreglo numpy y valores escalares"
   ]
  },
  {
   "cell_type": "code",
   "execution_count": 21,
   "metadata": {},
   "outputs": [
    {
     "data": {
      "text/plain": [
       "array([[100],\n",
       "       [101],\n",
       "       [102],\n",
       "       [103]])"
      ]
     },
     "execution_count": 21,
     "metadata": {},
     "output_type": "execute_result"
    }
   ],
   "source": [
    "\n",
    "bcast1 = np.array(range(4))\n",
    "bcast1 = bcast1.reshape(-1,1)\n",
    "bcast1 + 100\n"
   ]
  },
  {
   "cell_type": "code",
   "execution_count": 22,
   "metadata": {},
   "outputs": [
    {
     "data": {
      "text/plain": [
       "array([[-1],\n",
       "       [ 0],\n",
       "       [ 1],\n",
       "       [ 2]])"
      ]
     },
     "execution_count": 22,
     "metadata": {},
     "output_type": "execute_result"
    }
   ],
   "source": [
    "bcast1 - 1"
   ]
  },
  {
   "cell_type": "code",
   "execution_count": 23,
   "metadata": {},
   "outputs": [
    {
     "data": {
      "text/plain": [
       "array([[ 0],\n",
       "       [10],\n",
       "       [20],\n",
       "       [30]])"
      ]
     },
     "execution_count": 23,
     "metadata": {},
     "output_type": "execute_result"
    }
   ],
   "source": [
    "bcast1 * 10"
   ]
  },
  {
   "cell_type": "code",
   "execution_count": 24,
   "metadata": {},
   "outputs": [
    {
     "data": {
      "text/plain": [
       "array([[0. ],\n",
       "       [0.5],\n",
       "       [1. ],\n",
       "       [1.5]])"
      ]
     },
     "execution_count": 24,
     "metadata": {},
     "output_type": "execute_result"
    }
   ],
   "source": [
    "bcast1 / 2"
   ]
  },
  {
   "cell_type": "code",
   "execution_count": 25,
   "metadata": {},
   "outputs": [
    {
     "data": {
      "text/plain": [
       "array([[0],\n",
       "       [1],\n",
       "       [2],\n",
       "       [3]])"
      ]
     },
     "execution_count": 25,
     "metadata": {},
     "output_type": "execute_result"
    }
   ],
   "source": [
    "bcast1"
   ]
  },
  {
   "cell_type": "markdown",
   "metadata": {},
   "source": [
    "### Operaciones con matrices de distintas dimensiones en las que se aplica broadcasting para alinear las dimensiones de las matrices y admitir la operación"
   ]
  },
  {
   "cell_type": "code",
   "execution_count": 26,
   "metadata": {},
   "outputs": [
    {
     "data": {
      "text/plain": [
       "array([[0, 1, 2],\n",
       "       [3, 4, 5]])"
      ]
     },
     "execution_count": 26,
     "metadata": {},
     "output_type": "execute_result"
    }
   ],
   "source": [
    "bcast2 = np.array(range(6)).reshape(2,3)\n",
    "bcast2"
   ]
  },
  {
   "cell_type": "code",
   "execution_count": 27,
   "metadata": {},
   "outputs": [
    {
     "data": {
      "text/plain": [
       "array([[100, 101, 102],\n",
       "       [103, 104, 105]])"
      ]
     },
     "execution_count": 27,
     "metadata": {},
     "output_type": "execute_result"
    }
   ],
   "source": [
    "bcast100 = np.array([100,100,100]).reshape(1,3)\n",
    "bcast2 + bcast100"
   ]
  },
  {
   "cell_type": "code",
   "execution_count": 28,
   "metadata": {},
   "outputs": [
    {
     "data": {
      "text/plain": [
       "array([[0, 1, 2],\n",
       "       [3, 4, 5],\n",
       "       [6, 7, 8]])"
      ]
     },
     "execution_count": 28,
     "metadata": {},
     "output_type": "execute_result"
    }
   ],
   "source": [
    "bcast3 = np.array(range(9)).reshape(3,-1)\n",
    "bcast3"
   ]
  },
  {
   "cell_type": "code",
   "execution_count": 29,
   "metadata": {},
   "outputs": [
    {
     "data": {
      "text/plain": [
       "array([[100],\n",
       "       [100],\n",
       "       [100]])"
      ]
     },
     "execution_count": 29,
     "metadata": {},
     "output_type": "execute_result"
    }
   ],
   "source": [
    "bcast4 = bcast100.reshape(3,-1)\n",
    "bcast4"
   ]
  },
  {
   "cell_type": "code",
   "execution_count": 30,
   "metadata": {},
   "outputs": [
    {
     "data": {
      "text/plain": [
       "array([[100, 101, 102],\n",
       "       [103, 104, 105],\n",
       "       [106, 107, 108]])"
      ]
     },
     "execution_count": 30,
     "metadata": {},
     "output_type": "execute_result"
    }
   ],
   "source": [
    "bcast3 + bcast4"
   ]
  },
  {
   "cell_type": "markdown",
   "metadata": {},
   "source": [
    "### Producto dot\n",
    "np.dot es el producto dot de dos matrices\n",
    "https://en.wikipedia.org/wiki/Dot_product\n",
    "\n",
    "|A B| (dot) |E F| = | A\\*E+B\\*G A\\*F+B\\*H |\n",
    "\n",
    "|C D|  .....  |G H| = | C\\*E+D\\*G C\\*F+D\\*H |"
   ]
  },
  {
   "cell_type": "code",
   "execution_count": 31,
   "metadata": {},
   "outputs": [
    {
     "data": {
      "text/plain": [
       "array([[0, 1],\n",
       "       [2, 3]])"
      ]
     },
     "execution_count": 31,
     "metadata": {},
     "output_type": "execute_result"
    }
   ],
   "source": [
    "mat1 = np.array(range(4)).reshape(2,-1)\n",
    "mat1"
   ]
  },
  {
   "cell_type": "code",
   "execution_count": 32,
   "metadata": {},
   "outputs": [
    {
     "data": {
      "text/plain": [
       "array([[10, 20],\n",
       "       [30, 40]])"
      ]
     },
     "execution_count": 32,
     "metadata": {},
     "output_type": "execute_result"
    }
   ],
   "source": [
    "mat2 = np.array([10,20,30,40]).reshape(2,-1)\n",
    "mat2"
   ]
  },
  {
   "cell_type": "code",
   "execution_count": 33,
   "metadata": {},
   "outputs": [
    {
     "data": {
      "text/plain": [
       "array([[ 30,  40],\n",
       "       [110, 160]])"
      ]
     },
     "execution_count": 33,
     "metadata": {},
     "output_type": "execute_result"
    }
   ],
   "source": [
    "np.dot(mat1,mat2)"
   ]
  },
  {
   "cell_type": "code",
   "execution_count": 34,
   "metadata": {},
   "outputs": [
    {
     "data": {
      "text/plain": [
       "array([[  0,  20],\n",
       "       [ 60, 120]])"
      ]
     },
     "execution_count": 34,
     "metadata": {},
     "output_type": "execute_result"
    }
   ],
   "source": [
    "#Multiplicación elemento-a-elemento de matrices\n",
    "mat1*mat2"
   ]
  },
  {
   "cell_type": "code",
   "execution_count": null,
   "metadata": {},
   "outputs": [],
   "source": []
  }
 ],
 "metadata": {
  "interpreter": {
   "hash": "d991d63f1333d071e4876458cb08cc2953af427fefb8b92f4b8d2b9ec10094fa"
  },
  "kernelspec": {
   "display_name": "Python 3.7.4 64-bit (conda)",
   "language": "python",
   "name": "python3"
  },
  "language_info": {
   "codemirror_mode": {
    "name": "ipython",
    "version": 3
   },
   "file_extension": ".py",
   "mimetype": "text/x-python",
   "name": "python",
   "nbconvert_exporter": "python",
   "pygments_lexer": "ipython3",
   "version": "3.11.5"
  }
 },
 "nbformat": 4,
 "nbformat_minor": 2
}
