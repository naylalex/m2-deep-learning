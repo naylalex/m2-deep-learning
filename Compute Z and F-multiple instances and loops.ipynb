{
 "cells": [
  {
   "cell_type": "markdown",
   "metadata": {},
   "source": [
    "# Cálculo de suma ponderada Z e implementación de función de activación f() con múltiples instancias (tipos de dato estándar y ciclos)\n",
    "\n",
    "Objetivo: Mostrar los principios básicos de cálculo de la suma ponderada y función de activación considerando:\n",
    "* Clasificación binaria.\n",
    "* 4 instancias de entrenamiento con 3 variables independientes.\n",
    "* Implementación con los tipos de datos de la librería estándar de Python.\n",
    "\n",
    "Definiciones:\n",
    "\n",
    "X:\n",
    "  Instancias con las tres variables independientes.\n",
    "  Lista anidada de Python:\n",
    "    Primer nivel instancia.\n",
    "    Segundo nivel variables de la instancia.\n",
    "\n",
    "Y: \n",
    "  Variables dependientes asociadas a las instancias.\n",
    "  Lista simple de Python con etiquetas en orden secuencial por instancia.\n",
    "\n",
    "w:\n",
    "  Pesos correspondientes a cada variable independiente.\n",
    "  Nota: Se emplean los mismos pesos en todas las instancias.\n",
    "  Arreglo simple de Python con los pesos.\n",
    "\n",
    "b:\n",
    "  El bias del modelo.\n",
    "  float de Python.\n",
    "\n",
    "Z:\n",
    "  Resultado de la suma ponderada.\n",
    "  \n",
    "f:\n",
    "  La función de activación.\n",
    "\n",
    "Y_hat:\n",
    "  Predicción del modelo, resultado de invocar f(Z).\n",
    "  Lista simple de Python."
   ]
  },
  {
   "cell_type": "markdown",
   "metadata": {},
   "source": [
    "Definimos las instancias `X`."
   ]
  },
  {
   "cell_type": "code",
   "execution_count": 12,
   "metadata": {},
   "outputs": [
    {
     "data": {
      "text/plain": [
       "[[1, 2, 3], [10, 20, 30], [4, 8, 12], [11, 21, 31]]"
      ]
     },
     "execution_count": 12,
     "metadata": {},
     "output_type": "execute_result"
    }
   ],
   "source": [
    "X = [\n",
    "  [1, 2, 3],\n",
    "  [10, 20, 30],\n",
    "  [4, 8, 12],\n",
    "  [11, 21, 31]\n",
    "]\n",
    "X"
   ]
  },
  {
   "cell_type": "markdown",
   "metadata": {},
   "source": [
    "Definimos la variable dependiente `Y`."
   ]
  },
  {
   "cell_type": "code",
   "execution_count": 13,
   "metadata": {},
   "outputs": [],
   "source": [
    "Y = [1, -1, 1, -1]"
   ]
  },
  {
   "cell_type": "markdown",
   "metadata": {},
   "source": [
    "`n_vars` es una variable auxiliar que representa la cantidad de variables de la instancia."
   ]
  },
  {
   "cell_type": "code",
   "execution_count": 15,
   "metadata": {},
   "outputs": [
    {
     "data": {
      "text/plain": [
       "3"
      ]
     },
     "execution_count": 15,
     "metadata": {},
     "output_type": "execute_result"
    }
   ],
   "source": [
    "n_vars = len(X[0])\n",
    "n_vars"
   ]
  },
  {
   "cell_type": "markdown",
   "metadata": {},
   "source": [
    "`n_instances` es una variable auxiliar que representa la cantidad de instancias."
   ]
  },
  {
   "cell_type": "code",
   "execution_count": 16,
   "metadata": {},
   "outputs": [
    {
     "data": {
      "text/plain": [
       "4"
      ]
     },
     "execution_count": 16,
     "metadata": {},
     "output_type": "execute_result"
    }
   ],
   "source": [
    "n_instances = len(X)\n",
    "n_instances"
   ]
  },
  {
   "cell_type": "markdown",
   "metadata": {},
   "source": [
    "Inicializaremos los pesos `w`."
   ]
  },
  {
   "cell_type": "code",
   "execution_count": 17,
   "metadata": {},
   "outputs": [
    {
     "data": {
      "text/plain": [
       "0.052363598850944326"
      ]
     },
     "execution_count": 17,
     "metadata": {},
     "output_type": "execute_result"
    }
   ],
   "source": [
    "import random\n",
    "random.seed(123)\n",
    "random.random()"
   ]
  },
  {
   "cell_type": "code",
   "execution_count": 18,
   "metadata": {},
   "outputs": [
    {
     "data": {
      "text/plain": [
       "[0.08718667752263232, 0.4072417636703983, 0.10770023493843905]"
      ]
     },
     "execution_count": 18,
     "metadata": {},
     "output_type": "execute_result"
    }
   ],
   "source": [
    "\n",
    "w = [random.random() for _ in range(n_vars)]\n",
    "w"
   ]
  },
  {
   "cell_type": "markdown",
   "metadata": {},
   "source": [
    "Inicializamos el bias con un valor aleatorio."
   ]
  },
  {
   "cell_type": "code",
   "execution_count": 19,
   "metadata": {},
   "outputs": [
    {
     "data": {
      "text/plain": [
       "0.9011988779516946"
      ]
     },
     "execution_count": 19,
     "metadata": {},
     "output_type": "execute_result"
    }
   ],
   "source": [
    "b = random.random()\n",
    "b"
   ]
  },
  {
   "cell_type": "markdown",
   "metadata": {},
   "source": [
    "Implementaremos el cálculo de la suma ponderada con un procedimiento iterativo.\n",
    "\n",
    "A continuación los datos que serán empleados para el cálculo."
   ]
  },
  {
   "cell_type": "code",
   "execution_count": 20,
   "metadata": {},
   "outputs": [
    {
     "name": "stdout",
     "output_type": "stream",
     "text": [
      "[[1, 2, 3], [10, 20, 30], [4, 8, 12], [11, 21, 31]]\n",
      "[0.08718667752263232, 0.4072417636703983, 0.10770023493843905]\n",
      "0.9011988779516946\n",
      "[1, -1, 1, -1]\n"
     ]
    }
   ],
   "source": [
    "print(X)\n",
    "print(w)\n",
    "print(b)\n",
    "print(Y)\n"
   ]
  },
  {
   "cell_type": "code",
   "execution_count": 21,
   "metadata": {},
   "outputs": [
    {
     "data": {
      "text/plain": [
       "[2.1259697876304404,\n",
       " 13.148907974739156,\n",
       " 5.8002825166666785,\n",
       " 13.751036650870626]"
      ]
     },
     "execution_count": 21,
     "metadata": {},
     "output_type": "execute_result"
    }
   ],
   "source": [
    "Z = []\n",
    "for instance in range(n_instances):\n",
    "    wx = 0\n",
    "    for i in range(n_vars):\n",
    "        wx = wx + w[i] * X[instance][i]\n",
    "    Z.append(b + wx)\n",
    "Z"
   ]
  },
  {
   "cell_type": "markdown",
   "metadata": {},
   "source": [
    "Definiremos la función de activación `f`.\n",
    "\n",
    "Para el caso del perceptrón la función de activación en `sign`.\n",
    "\n",
    "Emplearemos la función `copysign` de la librería `math` de Python para representar `sign`.\n",
    "\n",
    "Consulta los detalles de por qué Python no implementa la función `sign` en [este artículo](https://stackoverflow.com/questions/1986152/why-doesnt-python-have-a-sign-function)."
   ]
  },
  {
   "cell_type": "code",
   "execution_count": 22,
   "metadata": {},
   "outputs": [],
   "source": [
    "import math\n",
    "def f(z):\n",
    "    return math.copysign(1, z)"
   ]
  },
  {
   "cell_type": "markdown",
   "metadata": {},
   "source": [
    "Invocaremos f(z)"
   ]
  },
  {
   "cell_type": "code",
   "execution_count": 24,
   "metadata": {},
   "outputs": [
    {
     "data": {
      "text/plain": [
       "[1.0, 1.0, 1.0, 1.0]"
      ]
     },
     "execution_count": 24,
     "metadata": {},
     "output_type": "execute_result"
    }
   ],
   "source": [
    "Y_hat = [f(z) for z in Z]\n",
    "Y_hat"
   ]
  }
 ],
 "metadata": {
  "kernelspec": {
   "display_name": "Python 3",
   "language": "python",
   "name": "python3"
  },
  "language_info": {
   "codemirror_mode": {
    "name": "ipython",
    "version": 3
   },
   "file_extension": ".py",
   "mimetype": "text/x-python",
   "name": "python",
   "nbconvert_exporter": "python",
   "pygments_lexer": "ipython3",
   "version": "3.11.5"
  }
 },
 "nbformat": 4,
 "nbformat_minor": 2
}
