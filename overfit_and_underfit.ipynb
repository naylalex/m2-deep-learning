{
 "cells": [
  {
   "cell_type": "markdown",
   "metadata": {
    "id": "fTFj8ft5dlbS"
   },
   "source": [
    "##### Copyright 2018 The TensorFlow Authors."
   ]
  },
  {
   "cell_type": "code",
   "execution_count": null,
   "metadata": {
    "cellView": "form",
    "execution": {
     "iopub.execute_input": "2021-01-06T02:31:38.980222Z",
     "iopub.status.busy": "2021-01-06T02:31:38.979539Z",
     "iopub.status.idle": "2021-01-06T02:31:38.981369Z",
     "shell.execute_reply": "2021-01-06T02:31:38.981757Z"
    },
    "id": "lzyBOpYMdp3F"
   },
   "outputs": [],
   "source": [
    "#@title Licensed under the Apache License, Version 2.0 (the \"License\");\n",
    "# you may not use this file except in compliance with the License.\n",
    "# You may obtain a copy of the License at\n",
    "#\n",
    "# https://www.apache.org/licenses/LICENSE-2.0\n",
    "#\n",
    "# Unless required by applicable law or agreed to in writing, software\n",
    "# distributed under the License is distributed on an \"AS IS\" BASIS,\n",
    "# WITHOUT WARRANTIES OR CONDITIONS OF ANY KIND, either express or implied.\n",
    "# See the License for the specific language governing permissions and\n",
    "# limitations under the License."
   ]
  },
  {
   "cell_type": "code",
   "execution_count": null,
   "metadata": {
    "cellView": "form",
    "execution": {
     "iopub.execute_input": "2021-01-06T02:31:38.985453Z",
     "iopub.status.busy": "2021-01-06T02:31:38.984805Z",
     "iopub.status.idle": "2021-01-06T02:31:38.987111Z",
     "shell.execute_reply": "2021-01-06T02:31:38.986570Z"
    },
    "id": "m_x4KfSJ7Vt7"
   },
   "outputs": [],
   "source": [
    "#@title MIT License\n",
    "#\n",
    "# Copyright (c) 2017 François Chollet\n",
    "#\n",
    "# Permission is hereby granted, free of charge, to any person obtaining a\n",
    "# copy of this software and associated documentation files (the \"Software\"),\n",
    "# to deal in the Software without restriction, including without limitation\n",
    "# the rights to use, copy, modify, merge, publish, distribute, sublicense,\n",
    "# and/or sell copies of the Software, and to permit persons to whom the\n",
    "# Software is furnished to do so, subject to the following conditions:\n",
    "#\n",
    "# The above copyright notice and this permission notice shall be included in\n",
    "# all copies or substantial portions of the Software.\n",
    "#\n",
    "# THE SOFTWARE IS PROVIDED \"AS IS\", WITHOUT WARRANTY OF ANY KIND, EXPRESS OR\n",
    "# IMPLIED, INCLUDING BUT NOT LIMITED TO THE WARRANTIES OF MERCHANTABILITY,\n",
    "# FITNESS FOR A PARTICULAR PURPOSE AND NONINFRINGEMENT. IN NO EVENT SHALL\n",
    "# THE AUTHORS OR COPYRIGHT HOLDERS BE LIABLE FOR ANY CLAIM, DAMAGES OR OTHER\n",
    "# LIABILITY, WHETHER IN AN ACTION OF CONTRACT, TORT OR OTHERWISE, ARISING\n",
    "# FROM, OUT OF OR IN CONNECTION WITH THE SOFTWARE OR THE USE OR OTHER\n",
    "# DEALINGS IN THE SOFTWARE."
   ]
  },
  {
   "cell_type": "markdown",
   "metadata": {
    "id": "C9HmC2T4ld5B"
   },
   "source": [
    "# Overfit and underfit"
   ]
  },
  {
   "cell_type": "markdown",
   "metadata": {
    "id": "kRTxFhXAlnl1"
   },
   "source": [
    "<table class=\"tfo-notebook-buttons\" align=\"left\">\n",
    "  <td>\n",
    "    <a target=\"_blank\" href=\"https://www.tensorflow.org/tutorials/keras/overfit_and_underfit\"><img src=\"https://www.tensorflow.org/images/tf_logo_32px.png\" />View on TensorFlow.org</a>\n",
    "  </td>\n",
    "  <td>\n",
    "    <a target=\"_blank\" href=\"https://colab.research.google.com/github/tensorflow/docs/blob/master/site/en/tutorials/keras/overfit_and_underfit.ipynb\"><img src=\"https://www.tensorflow.org/images/colab_logo_32px.png\" />Run in Google Colab</a>\n",
    "  </td>\n",
    "  <td>\n",
    "    <a target=\"_blank\" href=\"https://github.com/tensorflow/docs/blob/master/site/en/tutorials/keras/overfit_and_underfit.ipynb\"><img src=\"https://www.tensorflow.org/images/GitHub-Mark-32px.png\" />View source on GitHub</a>\n",
    "  </td>\n",
    "  <td>\n",
    "    <a href=\"https://storage.googleapis.com/tensorflow_docs/docs/site/en/tutorials/keras/overfit_and_underfit.ipynb\"><img src=\"https://www.tensorflow.org/images/download_logo_32px.png\" />Download notebook</a>\n",
    "  </td>\n",
    "</table>"
   ]
  },
  {
   "cell_type": "markdown",
   "metadata": {
    "id": "19rPukKZsPG6"
   },
   "source": [
    "As always, the code in this example will use the `tf.keras` API, which you can learn more about in the TensorFlow [Keras guide](https://www.tensorflow.org/guide/keras).\n",
    "\n",
    "In both of the previous examples—[classifying text](https://www.tensorflow.org/tutorials/keras/text_classification_with_hub) and [predicting fuel efficiency](https://www.tensorflow.org/tutorials/keras/regression) — we saw that the accuracy of our model on the validation data would peak after training for a number of epochs, and would then stagnate or start decreasing.\n",
    "\n",
    "In other words, our model would *overfit* to the training data. Learning how to deal with overfitting is important. Although it's often possible to achieve high accuracy on the *training set*, what we really want is to develop models that generalize well to a *testing set* (or data they haven't seen before).\n",
    "\n",
    "The opposite of overfitting is *underfitting*. Underfitting occurs when there is still room for improvement on the train data. This can happen for a number of reasons: If the model is not powerful enough, is over-regularized, or has simply not been trained long enough. This means the network has not learned the relevant patterns in the training data.\n",
    "\n",
    "If you train for too long though, the model will start to overfit and learn patterns from the training data that don't generalize to the test data. We need to strike a balance. Understanding how to train for an appropriate number of epochs as we'll explore below is a useful skill.\n",
    "\n",
    "To prevent overfitting, the best solution is to use more complete training data. The dataset should cover the full range of inputs that the model is expected to handle. Additional data may only be useful if it covers new and interesting cases.\n",
    "\n",
    "A model trained on more complete data will naturally generalize better. When that is no longer possible, the next best solution is to use techniques like regularization. These place constraints on the quantity and type of information your model can store.  If a network can only afford to memorize a small number of patterns, the optimization process will force it to focus on the most prominent patterns, which have a better chance of generalizing well.\n",
    "\n",
    "In this notebook, we'll explore several common regularization techniques, and use them to improve on a classification model."
   ]
  },
  {
   "cell_type": "markdown",
   "metadata": {
    "id": "WL8UoOTmGGsL"
   },
   "source": [
    "## Setup"
   ]
  },
  {
   "cell_type": "markdown",
   "metadata": {
    "id": "9FklhSI0Gg9R"
   },
   "source": [
    "Before getting started, import the necessary packages:"
   ]
  },
  {
   "cell_type": "code",
   "execution_count": 27,
   "metadata": {
    "execution": {
     "iopub.execute_input": "2021-01-06T02:31:38.995860Z",
     "iopub.status.busy": "2021-01-06T02:31:38.995180Z",
     "iopub.status.idle": "2021-01-06T02:31:44.872253Z",
     "shell.execute_reply": "2021-01-06T02:31:44.872719Z"
    },
    "id": "5pZ8A2liqvgk"
   },
   "outputs": [
    {
     "name": "stdout",
     "output_type": "stream",
     "text": [
      "2.8.0\n"
     ]
    }
   ],
   "source": [
    "import tensorflow as tf\n",
    "\n",
    "from tensorflow.keras import layers\n",
    "from tensorflow.keras import regularizers\n",
    "\n",
    "print(tf.__version__)"
   ]
  },
  {
   "cell_type": "code",
   "execution_count": 28,
   "metadata": {},
   "outputs": [
    {
     "name": "stdout",
     "output_type": "stream",
     "text": [
      "Python 3.7.10\n"
     ]
    }
   ],
   "source": [
    "! python --version"
   ]
  },
  {
   "cell_type": "code",
   "execution_count": null,
   "metadata": {},
   "outputs": [],
   "source": [
    "!pip install -q git+https://github.com/tensorflow/docs"
   ]
  },
  {
   "cell_type": "code",
   "execution_count": 29,
   "metadata": {
    "execution": {
     "iopub.execute_input": "2021-01-06T02:31:44.878117Z",
     "iopub.status.busy": "2021-01-06T02:31:44.877386Z",
     "iopub.status.idle": "2021-01-06T02:32:07.044070Z",
     "shell.execute_reply": "2021-01-06T02:32:07.044502Z"
    },
    "id": "QnAtAjqRYVXe"
   },
   "outputs": [],
   "source": [
    "\n",
    "\n",
    "import tensorflow_docs as tfdocs\n",
    "import tensorflow_docs.modeling\n",
    "import tensorflow_docs.plots"
   ]
  },
  {
   "cell_type": "code",
   "execution_count": 30,
   "metadata": {
    "execution": {
     "iopub.execute_input": "2021-01-06T02:32:07.049185Z",
     "iopub.status.busy": "2021-01-06T02:32:07.048495Z",
     "iopub.status.idle": "2021-01-06T02:32:07.050518Z",
     "shell.execute_reply": "2021-01-06T02:32:07.050935Z"
    },
    "id": "-pnOU-ctX27Q"
   },
   "outputs": [],
   "source": [
    "from  IPython import display\n",
    "from matplotlib import pyplot as plt\n",
    "\n",
    "import numpy as np\n",
    "\n",
    "import pathlib\n",
    "import shutil\n",
    "import tempfile\n"
   ]
  },
  {
   "cell_type": "code",
   "execution_count": 31,
   "metadata": {
    "execution": {
     "iopub.execute_input": "2021-01-06T02:32:07.054840Z",
     "iopub.status.busy": "2021-01-06T02:32:07.054168Z",
     "iopub.status.idle": "2021-01-06T02:32:07.056837Z",
     "shell.execute_reply": "2021-01-06T02:32:07.056337Z"
    },
    "id": "jj6I4dvTtbUe"
   },
   "outputs": [],
   "source": [
    "logdir = pathlib.Path(tempfile.mkdtemp())/\"tensorboard_logs\"\n",
    "shutil.rmtree(logdir, ignore_errors=True)"
   ]
  },
  {
   "cell_type": "markdown",
   "metadata": {
    "id": "1cweoTiruj8O"
   },
   "source": [
    "## The Higgs Dataset\n",
    "\n",
    "The goal of this tutorial is not to do particle physics, so don't dwell on the details of the dataset. It contains 11&#x202F;000&#x202F;000 examples, each with 28 features, and a binary class label."
   ]
  },
  {
   "cell_type": "code",
   "execution_count": 32,
   "metadata": {
    "execution": {
     "iopub.execute_input": "2021-01-06T02:32:07.062228Z",
     "iopub.status.busy": "2021-01-06T02:32:07.061629Z",
     "iopub.status.idle": "2021-01-06T02:34:07.655560Z",
     "shell.execute_reply": "2021-01-06T02:34:07.656053Z"
    },
    "id": "YPjAvwb-6dFd"
   },
   "outputs": [],
   "source": [
    "gz = tf.keras.utils.get_file('HIGGS.csv.gz', 'http://mlphysics.ics.uci.edu/data/higgs/HIGGS.csv.gz')"
   ]
  },
  {
   "cell_type": "code",
   "execution_count": 33,
   "metadata": {
    "execution": {
     "iopub.execute_input": "2021-01-06T02:34:07.660260Z",
     "iopub.status.busy": "2021-01-06T02:34:07.659604Z",
     "iopub.status.idle": "2021-01-06T02:34:07.661743Z",
     "shell.execute_reply": "2021-01-06T02:34:07.661243Z"
    },
    "id": "AkiyUdaWIrww"
   },
   "outputs": [],
   "source": [
    "FEATURES = 28"
   ]
  },
  {
   "cell_type": "markdown",
   "metadata": {
    "id": "SFggl9gYKKRJ"
   },
   "source": [
    "The `tf.data.experimental.CsvDataset` class can be used to read csv records directly from a gzip file with no intermediate decompression step."
   ]
  },
  {
   "cell_type": "code",
   "execution_count": 34,
   "metadata": {
    "execution": {
     "iopub.execute_input": "2021-01-06T02:34:08.984534Z",
     "iopub.status.busy": "2021-01-06T02:34:08.355729Z",
     "iopub.status.idle": "2021-01-06T02:34:08.987459Z",
     "shell.execute_reply": "2021-01-06T02:34:08.987854Z"
    },
    "id": "QHz4sLVQEVIU"
   },
   "outputs": [],
   "source": [
    "ds = tf.data.experimental.CsvDataset(gz,[float(),]*(FEATURES+1), compression_type=\"GZIP\")"
   ]
  },
  {
   "cell_type": "markdown",
   "metadata": {
    "id": "HzahEELTKlSV"
   },
   "source": [
    "That csv reader class returns a list of scalars for each record. The following function repacks that list of scalars into a (feature_vector, label) pair."
   ]
  },
  {
   "cell_type": "code",
   "execution_count": 15,
   "metadata": {
    "execution": {
     "iopub.execute_input": "2021-01-06T02:34:08.992642Z",
     "iopub.status.busy": "2021-01-06T02:34:08.991975Z",
     "iopub.status.idle": "2021-01-06T02:34:08.994443Z",
     "shell.execute_reply": "2021-01-06T02:34:08.994002Z"
    },
    "id": "zPD6ICDlF6Wf"
   },
   "outputs": [],
   "source": [
    "def pack_row(*row):\n",
    "  label = row[0]\n",
    "  features = tf.stack(row[1:],1)\n",
    "  return features, label"
   ]
  },
  {
   "cell_type": "markdown",
   "metadata": {
    "id": "4oa8tLuwLsbO"
   },
   "source": [
    "TensorFlow is most efficient when operating on large batches of data.\n",
    "\n",
    "So instead of repacking each row individually make a new `Dataset` that takes batches of 10000-examples, applies the `pack_row` function to each batch, and then splits the batches back up into individual records:"
   ]
  },
  {
   "cell_type": "code",
   "execution_count": 35,
   "metadata": {
    "execution": {
     "iopub.execute_input": "2021-01-06T02:34:09.003339Z",
     "iopub.status.busy": "2021-01-06T02:34:09.000649Z",
     "iopub.status.idle": "2021-01-06T02:34:09.071240Z",
     "shell.execute_reply": "2021-01-06T02:34:09.071666Z"
    },
    "id": "-w-VHTwwGVoZ"
   },
   "outputs": [],
   "source": [
    "packed_ds = ds.batch(10000).map(pack_row).unbatch()"
   ]
  },
  {
   "cell_type": "markdown",
   "metadata": {
    "id": "lUbxc5bxNSXV"
   },
   "source": [
    "Have a look at some of the records from this new `packed_ds`.\n",
    "\n",
    "The features are not perfectly normalized, but this is sufficient for this tutorial."
   ]
  },
  {
   "cell_type": "code",
   "execution_count": 36,
   "metadata": {
    "execution": {
     "iopub.execute_input": "2021-01-06T02:34:09.077105Z",
     "iopub.status.busy": "2021-01-06T02:34:09.076452Z",
     "iopub.status.idle": "2021-01-06T02:34:09.976238Z",
     "shell.execute_reply": "2021-01-06T02:34:09.975601Z"
    },
    "id": "TfcXuv33Fvka"
   },
   "outputs": [
    {
     "name": "stdout",
     "output_type": "stream",
     "text": [
      "tf.Tensor(\n",
      "[ 0.8692932  -0.6350818   0.22569026  0.32747006 -0.6899932   0.75420225\n",
      " -0.24857314 -1.0920639   0.          1.3749921  -0.6536742   0.9303491\n",
      "  1.1074361   1.1389043  -1.5781983  -1.0469854   0.          0.65792954\n",
      " -0.01045457 -0.04576717  3.1019614   1.35376     0.9795631   0.97807616\n",
      "  0.92000484  0.72165745  0.98875093  0.87667835], shape=(28,), dtype=float32)\n"
     ]
    },
    {
     "data": {
      "image/png": "[encoded data removed]",
      "text/plain": [
       "<Figure size 432x288 with 1 Axes>"
      ]
     },
     "metadata": {
      "needs_background": "light"
     },
     "output_type": "display_data"
    }
   ],
   "source": [
    "for features,label in packed_ds.batch(1000).take(1):\n",
    "  print(features[0])\n",
    "  plt.hist(features.numpy().flatten(), bins = 101)"
   ]
  },
  {
   "cell_type": "markdown",
   "metadata": {
    "id": "ICKZRY7gN-QM"
   },
   "source": [
    "To keep this tutorial relatively short use just the first 1000 samples for validation, and the next 10 000 for training:"
   ]
  },
  {
   "cell_type": "code",
   "execution_count": 37,
   "metadata": {
    "execution": {
     "iopub.execute_input": "2021-01-06T02:34:09.981246Z",
     "iopub.status.busy": "2021-01-06T02:34:09.980408Z",
     "iopub.status.idle": "2021-01-06T02:34:09.982764Z",
     "shell.execute_reply": "2021-01-06T02:34:09.982272Z"
    },
    "id": "hmk49OqZIFZP"
   },
   "outputs": [],
   "source": [
    "N_VALIDATION = int(1e3)\n",
    "N_TRAIN = int(1e4)\n",
    "BUFFER_SIZE = int(1e4)\n",
    "BATCH_SIZE = 500\n",
    "STEPS_PER_EPOCH = N_TRAIN//BATCH_SIZE"
   ]
  },
  {
   "cell_type": "markdown",
   "metadata": {
    "id": "FP3M9DmvON32"
   },
   "source": [
    "The `Dataset.skip` and `Dataset.take` methods make this easy.\n",
    "\n",
    "At the same time, use the `Dataset.cache` method to ensure that the loader doesn't need to re-read the data from the file on each epoch:"
   ]
  },
  {
   "cell_type": "code",
   "execution_count": 38,
   "metadata": {
    "execution": {
     "iopub.execute_input": "2021-01-06T02:34:09.986662Z",
     "iopub.status.busy": "2021-01-06T02:34:09.986054Z",
     "iopub.status.idle": "2021-01-06T02:34:09.989660Z",
     "shell.execute_reply": "2021-01-06T02:34:09.989131Z"
    },
    "id": "H8H_ZzpBOOk-"
   },
   "outputs": [],
   "source": [
    "validate_ds = packed_ds.take(N_VALIDATION).cache()\n",
    "train_ds = packed_ds.skip(N_VALIDATION).take(N_TRAIN).cache()"
   ]
  },
  {
   "cell_type": "code",
   "execution_count": 39,
   "metadata": {
    "execution": {
     "iopub.execute_input": "2021-01-06T02:34:09.996318Z",
     "iopub.status.busy": "2021-01-06T02:34:09.995517Z",
     "iopub.status.idle": "2021-01-06T02:34:09.998862Z",
     "shell.execute_reply": "2021-01-06T02:34:09.999288Z"
    },
    "id": "9zAOqk2_Px7K"
   },
   "outputs": [
    {
     "data": {
      "text/plain": [
       "<CacheDataset element_spec=(TensorSpec(shape=(28,), dtype=tf.float32, name=None), TensorSpec(shape=(), dtype=tf.float32, name=None))>"
      ]
     },
     "execution_count": 39,
     "metadata": {},
     "output_type": "execute_result"
    }
   ],
   "source": [
    "train_ds"
   ]
  },
  {
   "cell_type": "markdown",
   "metadata": {
    "id": "6PMliHoVO3OL"
   },
   "source": [
    "These datasets return individual examples. Use the `.batch` method to create batches of an appropriate size for training. Before batching also remember to `.shuffle` and `.repeat` the training set."
   ]
  },
  {
   "cell_type": "code",
   "execution_count": 40,
   "metadata": {
    "execution": {
     "iopub.execute_input": "2021-01-06T02:34:10.003526Z",
     "iopub.status.busy": "2021-01-06T02:34:10.002718Z",
     "iopub.status.idle": "2021-01-06T02:34:10.006340Z",
     "shell.execute_reply": "2021-01-06T02:34:10.005851Z"
    },
    "id": "Y7I4J355O223"
   },
   "outputs": [],
   "source": [
    "validate_ds = validate_ds.batch(BATCH_SIZE)\n",
    "train_ds = train_ds.shuffle(BUFFER_SIZE).repeat().batch(BATCH_SIZE)"
   ]
  },
  {
   "cell_type": "markdown",
   "metadata": {
    "id": "lglk41MwvU5o"
   },
   "source": [
    "## Demonstrate overfitting\n",
    "\n",
    "The simplest way to prevent overfitting is to start with a small model: A model with a small number of learnable parameters (which is determined by the number of layers and the number of units per layer). In deep learning, the number of learnable parameters in a model is often referred to as the model's \"capacity\".\n",
    "\n",
    "Intuitively, a model with more parameters will have more \"memorization capacity\" and therefore will be able to easily learn a perfect dictionary-like mapping between training samples and their targets, a mapping without any generalization power, but this would be useless when making predictions on previously unseen data.\n",
    "\n",
    "Always keep this in mind: deep learning models tend to be good at fitting to the training data, but the real challenge is generalization, not fitting.\n",
    "\n",
    "On the other hand, if the network has limited memorization resources, it will not be able to learn the mapping as easily. To minimize its loss, it will have to learn compressed representations that have more predictive power. At the same time, if you make your model too small, it will have difficulty fitting to the training data. There is a balance between \"too much capacity\" and \"not enough capacity\".\n",
    "\n",
    "Unfortunately, there is no magical formula to determine the right size or architecture of your model (in terms of the number of layers, or the right size for each layer). You will have to experiment using a series of different architectures.\n",
    "\n",
    "To find an appropriate model size, it's best to start with relatively few layers and parameters, then begin increasing the size of the layers or adding new layers until you see diminishing returns on the validation loss.\n",
    "\n",
    "Start with a simple model using only `layers.Dense` as a baseline, then create larger versions, and compare them."
   ]
  },
  {
   "cell_type": "markdown",
   "metadata": {
    "id": "_ReKHdC2EgVu"
   },
   "source": [
    "### Training procedure"
   ]
  },
  {
   "cell_type": "markdown",
   "metadata": {
    "id": "pNzkSkkXSP5l"
   },
   "source": [
    "Many models train better if you gradually reduce the learning rate during training. Use `optimizers.schedules` to reduce the learning rate over time:"
   ]
  },
  {
   "cell_type": "code",
   "execution_count": 41,
   "metadata": {
    "execution": {
     "iopub.execute_input": "2021-01-06T02:34:10.011533Z",
     "iopub.status.busy": "2021-01-06T02:34:10.010566Z",
     "iopub.status.idle": "2021-01-06T02:34:10.013029Z",
     "shell.execute_reply": "2021-01-06T02:34:10.012554Z"
    },
    "id": "LwQp-ERhAD6F"
   },
   "outputs": [],
   "source": [
    "lr_schedule = tf.keras.optimizers.schedules.InverseTimeDecay(\n",
    "  0.001,\n",
    "  decay_steps=STEPS_PER_EPOCH*1000,\n",
    "  decay_rate=1,\n",
    "  staircase=False)\n",
    "\n",
    "def get_optimizer():\n",
    "  return tf.keras.optimizers.Adam(lr_schedule)"
   ]
  },
  {
   "cell_type": "markdown",
   "metadata": {
    "id": "kANLx6OYTQ8B"
   },
   "source": [
    "The code above sets a `schedules.InverseTimeDecay` to hyperbolically decrease the learning rate to 1/2 of the base rate at 1000 epochs, 1/3 at 2000 epochs and so on."
   ]
  },
  {
   "cell_type": "code",
   "execution_count": 42,
   "metadata": {
    "execution": {
     "iopub.execute_input": "2021-01-06T02:34:10.125185Z",
     "iopub.status.busy": "2021-01-06T02:34:10.123812Z",
     "iopub.status.idle": "2021-01-06T02:34:10.248403Z",
     "shell.execute_reply": "2021-01-06T02:34:10.248934Z"
    },
    "id": "HIo_yPjEAFgn"
   },
   "outputs": [
    {
     "data": {
      "image/png": "[encoded data removed]",
      "text/plain": [
       "<Figure size 576x432 with 1 Axes>"
      ]
     },
     "metadata": {
      "needs_background": "light"
     },
     "output_type": "display_data"
    }
   ],
   "source": [
    "step = np.linspace(0,100000)\n",
    "lr = lr_schedule(step)\n",
    "plt.figure(figsize = (8,6))\n",
    "plt.plot(step/STEPS_PER_EPOCH, lr)\n",
    "plt.ylim([0,max(plt.ylim())])\n",
    "plt.xlabel('Epoch')\n",
    "_ = plt.ylabel('Learning Rate')\n"
   ]
  },
  {
   "cell_type": "markdown",
   "metadata": {
    "id": "ya7x7gr9UjU0"
   },
   "source": [
    "Each model in this tutorial will use the same training configuration. So set these up in a reusable way, starting with the list of callbacks.\n",
    "\n",
    "The training for this tutorial runs for many short epochs. To reduce the logging noise use the `tfdocs.EpochDots` which simply prints a `.` for each epoch, and a full set of metrics every 100 epochs.\n",
    "\n",
    "Next include `callbacks.EarlyStopping` to avoid long and unnecessary training times. Note that this callback is set to monitor the `val_binary_crossentropy`, not the `val_loss`. This difference will be important later.\n",
    "\n",
    "Use `callbacks.TensorBoard` to generate TensorBoard logs for the training.\n"
   ]
  },
  {
   "cell_type": "code",
   "execution_count": 43,
   "metadata": {
    "execution": {
     "iopub.execute_input": "2021-01-06T02:34:10.254738Z",
     "iopub.status.busy": "2021-01-06T02:34:10.253747Z",
     "iopub.status.idle": "2021-01-06T02:34:10.256610Z",
     "shell.execute_reply": "2021-01-06T02:34:10.255974Z"
    },
    "id": "vSv8rfw_T85n"
   },
   "outputs": [],
   "source": [
    "def get_callbacks(name):\n",
    "  return [\n",
    "    tfdocs.modeling.EpochDots(),\n",
    "    tf.keras.callbacks.EarlyStopping(monitor='val_binary_crossentropy', patience=200),\n",
    "    tf.keras.callbacks.TensorBoard(logdir/name),\n",
    "  ]"
   ]
  },
  {
   "cell_type": "markdown",
   "metadata": {
    "id": "VhctzKhBWVDD"
   },
   "source": [
    "Similarly each model will use the same `Model.compile` and `Model.fit` settings:"
   ]
  },
  {
   "cell_type": "code",
   "execution_count": 44,
   "metadata": {
    "execution": {
     "iopub.execute_input": "2021-01-06T02:34:10.264089Z",
     "iopub.status.busy": "2021-01-06T02:34:10.262897Z",
     "iopub.status.idle": "2021-01-06T02:34:10.265782Z",
     "shell.execute_reply": "2021-01-06T02:34:10.265211Z"
    },
    "id": "xRCGwU3YH5sT"
   },
   "outputs": [],
   "source": [
    "def compile_and_fit(model, name, optimizer=None, max_epochs=10000):\n",
    "  if optimizer is None:\n",
    "    optimizer = get_optimizer()\n",
    "  model.compile(optimizer=optimizer,\n",
    "                loss=tf.keras.losses.BinaryCrossentropy(from_logits=True),\n",
    "                metrics=[\n",
    "                  tf.keras.losses.BinaryCrossentropy(\n",
    "                      from_logits=True, name='binary_crossentropy'),\n",
    "                  'accuracy'])\n",
    "\n",
    "  model.summary()\n",
    "\n",
    "  history = model.fit(\n",
    "    train_ds,\n",
    "    steps_per_epoch = STEPS_PER_EPOCH,\n",
    "    epochs=max_epochs,\n",
    "    validation_data=validate_ds,\n",
    "    callbacks=get_callbacks(name),\n",
    "    verbose=0)\n",
    "  return history"
   ]
  },
  {
   "cell_type": "markdown",
   "metadata": {
    "id": "mxBeiLUiWHJV"
   },
   "source": [
    "### Tiny model"
   ]
  },
  {
   "cell_type": "markdown",
   "metadata": {
    "id": "a6JDv12scLTI"
   },
   "source": [
    "Start by training a model:"
   ]
  },
  {
   "cell_type": "code",
   "execution_count": 45,
   "metadata": {
    "execution": {
     "iopub.execute_input": "2021-01-06T02:34:10.271605Z",
     "iopub.status.busy": "2021-01-06T02:34:10.270371Z",
     "iopub.status.idle": "2021-01-06T02:34:10.312551Z",
     "shell.execute_reply": "2021-01-06T02:34:10.313053Z"
    },
    "id": "EZh-QFjKHb70"
   },
   "outputs": [],
   "source": [
    "tiny_model = tf.keras.Sequential([\n",
    "    layers.Dense(16, activation='elu', input_shape=(FEATURES,)),\n",
    "    layers.Dense(1)\n",
    "])"
   ]
  },
  {
   "cell_type": "code",
   "execution_count": 46,
   "metadata": {
    "execution": {
     "iopub.execute_input": "2021-01-06T02:34:10.317925Z",
     "iopub.status.busy": "2021-01-06T02:34:10.316741Z",
     "iopub.status.idle": "2021-01-06T02:34:10.319078Z",
     "shell.execute_reply": "2021-01-06T02:34:10.319600Z"
    },
    "id": "X72IUdWYipIS"
   },
   "outputs": [],
   "source": [
    "size_histories = {}"
   ]
  },
  {
   "cell_type": "code",
   "execution_count": 47,
   "metadata": {
    "execution": {
     "iopub.execute_input": "2021-01-06T02:34:10.334709Z",
     "iopub.status.busy": "2021-01-06T02:34:10.333648Z",
     "iopub.status.idle": "2021-01-06T02:37:17.867337Z",
     "shell.execute_reply": "2021-01-06T02:37:17.867841Z"
    },
    "id": "bdOcJtPGHhJ5"
   },
   "outputs": [
    {
     "name": "stdout",
     "output_type": "stream",
     "text": [
      "Model: \"sequential\"\n",
      "_________________________________________________________________\n",
      " Layer (type)                Output Shape              Param #   \n",
      "=================================================================\n",
      " dense (Dense)               (None, 16)                464       \n",
      "                                                                 \n",
      " dense_1 (Dense)             (None, 1)                 17        \n",
      "                                                                 \n",
      "=================================================================\n",
      "Total params: 481\n",
      "Trainable params: 481\n",
      "Non-trainable params: 0\n",
      "_________________________________________________________________\n",
      "\n",
      "Epoch: 0, accuracy:0.4728,  binary_crossentropy:0.7874,  loss:0.7874,  val_accuracy:0.4750,  val_binary_crossentropy:0.7486,  val_loss:0.7486,  \n",
      "....................................................................................................\n",
      "Epoch: 100, accuracy:0.5934,  binary_crossentropy:0.6289,  loss:0.6289,  val_accuracy:0.5850,  val_binary_crossentropy:0.6276,  val_loss:0.6276,  \n",
      "....................................................................................................\n",
      "Epoch: 200, accuracy:0.6212,  binary_crossentropy:0.6145,  loss:0.6145,  val_accuracy:0.5890,  val_binary_crossentropy:0.6135,  val_loss:0.6135,  \n",
      "....................................................................................................\n",
      "Epoch: 300, accuracy:0.6389,  binary_crossentropy:0.6027,  loss:0.6027,  val_accuracy:0.6350,  val_binary_crossentropy:0.5962,  val_loss:0.5962,  \n",
      "....................................................................................................\n",
      "Epoch: 400, accuracy:0.6572,  binary_crossentropy:0.5950,  loss:0.5950,  val_accuracy:0.6340,  val_binary_crossentropy:0.5913,  val_loss:0.5913,  \n",
      "....................................................................................................\n",
      "Epoch: 500, accuracy:0.6602,  binary_crossentropy:0.5904,  loss:0.5904,  val_accuracy:0.6550,  val_binary_crossentropy:0.5859,  val_loss:0.5859,  \n",
      "....................................................................................................\n",
      "Epoch: 600, accuracy:0.6633,  binary_crossentropy:0.5875,  loss:0.5875,  val_accuracy:0.6780,  val_binary_crossentropy:0.5846,  val_loss:0.5846,  \n",
      "....................................................................................................\n",
      "Epoch: 700, accuracy:0.6649,  binary_crossentropy:0.5848,  loss:0.5848,  val_accuracy:0.6770,  val_binary_crossentropy:0.5845,  val_loss:0.5845,  \n",
      "....................................................................................................\n",
      "Epoch: 800, accuracy:0.6621,  binary_crossentropy:0.5827,  loss:0.5827,  val_accuracy:0.6580,  val_binary_crossentropy:0.5857,  val_loss:0.5857,  \n",
      ".................................................................................."
     ]
    }
   ],
   "source": [
    "size_histories['Tiny'] = compile_and_fit(tiny_model, 'sizes/Tiny')"
   ]
  },
  {
   "cell_type": "markdown",
   "metadata": {
    "id": "rS_QGT6icwdI"
   },
   "source": [
    "Now check how the model did:"
   ]
  },
  {
   "cell_type": "code",
   "execution_count": 48,
   "metadata": {
    "execution": {
     "iopub.execute_input": "2021-01-06T02:37:17.872827Z",
     "iopub.status.busy": "2021-01-06T02:37:17.872204Z",
     "iopub.status.idle": "2021-01-06T02:37:18.059052Z",
     "shell.execute_reply": "2021-01-06T02:37:18.059525Z"
    },
    "id": "dkEvb2x5XsjE"
   },
   "outputs": [
    {
     "data": {
      "text/plain": [
       "(0.5, 0.7)"
      ]
     },
     "execution_count": 48,
     "metadata": {},
     "output_type": "execute_result"
    },
    {
     "data": {
      "image/png": "[encoded data removed]",
      "text/plain": [
       "<Figure size 432x288 with 1 Axes>"
      ]
     },
     "metadata": {
      "needs_background": "light"
     },
     "output_type": "display_data"
    }
   ],
   "source": [
    "plotter = tfdocs.plots.HistoryPlotter(metric = 'binary_crossentropy', smoothing_std=10)\n",
    "plotter.plot(size_histories)\n",
    "plt.ylim([0.5, 0.7])"
   ]
  },
  {
   "cell_type": "markdown",
   "metadata": {
    "id": "LGxGzh_FWOJ8"
   },
   "source": [
    "### Small model"
   ]
  },
  {
   "cell_type": "markdown",
   "metadata": {
    "id": "YjMb6E72f2pN"
   },
   "source": [
    "To see if you can beat the performance of the small model, progressively train some larger models.\n",
    "\n",
    "Try two hidden layers with 16 units each:"
   ]
  },
  {
   "cell_type": "code",
   "execution_count": 49,
   "metadata": {
    "execution": {
     "iopub.execute_input": "2021-01-06T02:37:18.068326Z",
     "iopub.status.busy": "2021-01-06T02:37:18.067690Z",
     "iopub.status.idle": "2021-01-06T02:37:18.088439Z",
     "shell.execute_reply": "2021-01-06T02:37:18.087937Z"
    },
    "id": "QKgdXPx9usBa"
   },
   "outputs": [],
   "source": [
    "small_model = tf.keras.Sequential([\n",
    "    # `input_shape` is only required here so that `.summary` works.\n",
    "    layers.Dense(16, activation='elu', input_shape=(FEATURES,)),\n",
    "    layers.Dense(16, activation='elu'),\n",
    "    layers.Dense(1)\n",
    "])"
   ]
  },
  {
   "cell_type": "code",
   "execution_count": 50,
   "metadata": {
    "execution": {
     "iopub.execute_input": "2021-01-06T02:37:18.096894Z",
     "iopub.status.busy": "2021-01-06T02:37:18.096260Z",
     "iopub.status.idle": "2021-01-06T02:38:09.442412Z",
     "shell.execute_reply": "2021-01-06T02:38:09.442870Z"
    },
    "id": "LqG3MXF5xSjR"
   },
   "outputs": [
    {
     "name": "stdout",
     "output_type": "stream",
     "text": [
      "Model: \"sequential_1\"\n",
      "_________________________________________________________________\n",
      " Layer (type)                Output Shape              Param #   \n",
      "=================================================================\n",
      " dense_2 (Dense)             (None, 16)                464       \n",
      "                                                                 \n",
      " dense_3 (Dense)             (None, 16)                272       \n",
      "                                                                 \n",
      " dense_4 (Dense)             (None, 1)                 17        \n",
      "                                                                 \n",
      "=================================================================\n",
      "Total params: 753\n",
      "Trainable params: 753\n",
      "Non-trainable params: 0\n",
      "_________________________________________________________________\n",
      "\n",
      "Epoch: 0, accuracy:0.4855,  binary_crossentropy:0.7762,  loss:0.7762,  val_accuracy:0.4970,  val_binary_crossentropy:0.7159,  val_loss:0.7159,  \n",
      "....................................................................................................\n",
      "Epoch: 100, accuracy:0.6257,  binary_crossentropy:0.6092,  loss:0.6092,  val_accuracy:0.6130,  val_binary_crossentropy:0.6113,  val_loss:0.6113,  \n",
      "....................................................................................................\n",
      "Epoch: 200, accuracy:0.6699,  binary_crossentropy:0.5835,  loss:0.5835,  val_accuracy:0.6620,  val_binary_crossentropy:0.5836,  val_loss:0.5836,  \n",
      "....................................................................................................\n",
      "Epoch: 300, accuracy:0.6803,  binary_crossentropy:0.5731,  loss:0.5731,  val_accuracy:0.6830,  val_binary_crossentropy:0.5787,  val_loss:0.5787,  \n",
      "....................................................................................................\n",
      "Epoch: 400, accuracy:0.6899,  binary_crossentropy:0.5654,  loss:0.5654,  val_accuracy:0.6640,  val_binary_crossentropy:0.5818,  val_loss:0.5818,  \n",
      "....................................................................................................\n",
      "Epoch: 500, accuracy:0.6930,  binary_crossentropy:0.5589,  loss:0.5589,  val_accuracy:0.6810,  val_binary_crossentropy:0.5826,  val_loss:0.5826,  \n",
      "................................."
     ]
    }
   ],
   "source": [
    "size_histories['Small'] = compile_and_fit(small_model, 'sizes/Small')"
   ]
  },
  {
   "cell_type": "markdown",
   "metadata": {
    "id": "L-DGRBbGxI6G"
   },
   "source": [
    "### Medium model"
   ]
  },
  {
   "cell_type": "markdown",
   "metadata": {
    "id": "SrfoVQheYSO5"
   },
   "source": [
    "Now try 3 hidden layers with 64 units each:"
   ]
  },
  {
   "cell_type": "code",
   "execution_count": 51,
   "metadata": {
    "execution": {
     "iopub.execute_input": "2021-01-06T02:38:09.452021Z",
     "iopub.status.busy": "2021-01-06T02:38:09.451325Z",
     "iopub.status.idle": "2021-01-06T02:38:09.477803Z",
     "shell.execute_reply": "2021-01-06T02:38:09.477237Z"
    },
    "id": "jksi-XtaxDAh"
   },
   "outputs": [],
   "source": [
    "medium_model = tf.keras.Sequential([\n",
    "    layers.Dense(64, activation='elu', input_shape=(FEATURES,)),\n",
    "    layers.Dense(64, activation='elu'),\n",
    "    layers.Dense(64, activation='elu'),\n",
    "    layers.Dense(1)\n",
    "])"
   ]
  },
  {
   "cell_type": "markdown",
   "metadata": {
    "id": "jbngCZliYdma"
   },
   "source": [
    "And train the model using the same data:"
   ]
  },
  {
   "cell_type": "code",
   "execution_count": 52,
   "metadata": {
    "execution": {
     "iopub.execute_input": "2021-01-06T02:38:09.486443Z",
     "iopub.status.busy": "2021-01-06T02:38:09.485864Z",
     "iopub.status.idle": "2021-01-06T02:38:39.752235Z",
     "shell.execute_reply": "2021-01-06T02:38:39.751744Z"
    },
    "id": "Ofn1AwDhx-Fe"
   },
   "outputs": [
    {
     "name": "stdout",
     "output_type": "stream",
     "text": [
      "Model: \"sequential_2\"\n",
      "_________________________________________________________________\n",
      " Layer (type)                Output Shape              Param #   \n",
      "=================================================================\n",
      " dense_5 (Dense)             (None, 64)                1856      \n",
      "                                                                 \n",
      " dense_6 (Dense)             (None, 64)                4160      \n",
      "                                                                 \n",
      " dense_7 (Dense)             (None, 64)                4160      \n",
      "                                                                 \n",
      " dense_8 (Dense)             (None, 1)                 65        \n",
      "                                                                 \n",
      "=================================================================\n",
      "Total params: 10,241\n",
      "Trainable params: 10,241\n",
      "Non-trainable params: 0\n",
      "_________________________________________________________________\n",
      "\n",
      "Epoch: 0, accuracy:0.4921,  binary_crossentropy:0.6901,  loss:0.6901,  val_accuracy:0.4860,  val_binary_crossentropy:0.6791,  val_loss:0.6791,  \n",
      "....................................................................................................\n",
      "Epoch: 100, accuracy:0.7085,  binary_crossentropy:0.5332,  loss:0.5332,  val_accuracy:0.6410,  val_binary_crossentropy:0.6152,  val_loss:0.6152,  \n",
      "....................................................................................................\n",
      "Epoch: 200, accuracy:0.7806,  binary_crossentropy:0.4381,  loss:0.4381,  val_accuracy:0.6250,  val_binary_crossentropy:0.7098,  val_loss:0.7098,  \n",
      "..............................................................................."
     ]
    }
   ],
   "source": [
    "size_histories['Medium']  = compile_and_fit(medium_model, \"sizes/Medium\")"
   ]
  },
  {
   "cell_type": "markdown",
   "metadata": {
    "id": "vIPuf23FFaVn"
   },
   "source": [
    "### Large model\n",
    "\n",
    "As an exercise, you can create an even larger model, and see how quickly it begins overfitting.  Next, let's add to this benchmark a network that has much more capacity, far more than the problem would warrant:"
   ]
  },
  {
   "cell_type": "code",
   "execution_count": 53,
   "metadata": {
    "execution": {
     "iopub.execute_input": "2021-01-06T02:38:39.762063Z",
     "iopub.status.busy": "2021-01-06T02:38:39.761360Z",
     "iopub.status.idle": "2021-01-06T02:38:39.797207Z",
     "shell.execute_reply": "2021-01-06T02:38:39.797645Z"
    },
    "id": "ghQwwqwqvQM9"
   },
   "outputs": [],
   "source": [
    "large_model = tf.keras.Sequential([\n",
    "    layers.Dense(512, activation='elu', input_shape=(FEATURES,)),\n",
    "    layers.Dense(512, activation='elu'),\n",
    "    layers.Dense(512, activation='elu'),\n",
    "    layers.Dense(512, activation='elu'),\n",
    "    layers.Dense(1)\n",
    "])"
   ]
  },
  {
   "cell_type": "markdown",
   "metadata": {
    "id": "D-d-i5DaYmr7"
   },
   "source": [
    "And, again, train the model using the same data:"
   ]
  },
  {
   "cell_type": "code",
   "execution_count": 54,
   "metadata": {
    "execution": {
     "iopub.execute_input": "2021-01-06T02:38:39.807271Z",
     "iopub.status.busy": "2021-01-06T02:38:39.806524Z",
     "iopub.status.idle": "2021-01-06T02:39:07.446976Z",
     "shell.execute_reply": "2021-01-06T02:39:07.446417Z"
    },
    "id": "U1A99dhqvepf"
   },
   "outputs": [
    {
     "name": "stdout",
     "output_type": "stream",
     "text": [
      "Model: \"sequential_3\"\n",
      "_________________________________________________________________\n",
      " Layer (type)                Output Shape              Param #   \n",
      "=================================================================\n",
      " dense_9 (Dense)             (None, 512)               14848     \n",
      "                                                                 \n",
      " dense_10 (Dense)            (None, 512)               262656    \n",
      "                                                                 \n",
      " dense_11 (Dense)            (None, 512)               262656    \n",
      "                                                                 \n",
      " dense_12 (Dense)            (None, 512)               262656    \n",
      "                                                                 \n",
      " dense_13 (Dense)            (None, 1)                 513       \n",
      "                                                                 \n",
      "=================================================================\n",
      "Total params: 803,329\n",
      "Trainable params: 803,329\n",
      "Non-trainable params: 0\n",
      "_________________________________________________________________\n",
      "\n",
      "Epoch: 0, accuracy:0.5172,  binary_crossentropy:0.8198,  loss:0.8198,  val_accuracy:0.4900,  val_binary_crossentropy:0.6750,  val_loss:0.6750,  \n",
      "....................................................................................................\n",
      "Epoch: 100, accuracy:1.0000,  binary_crossentropy:0.0023,  loss:0.0023,  val_accuracy:0.6580,  val_binary_crossentropy:1.7204,  val_loss:1.7204,  \n",
      "....................................................................................................\n",
      "Epoch: 200, accuracy:1.0000,  binary_crossentropy:0.0001,  loss:0.0001,  val_accuracy:0.6650,  val_binary_crossentropy:2.3354,  val_loss:2.3354,  \n",
      "........................."
     ]
    }
   ],
   "source": [
    "size_histories['large'] = compile_and_fit(large_model, \"sizes/large\")"
   ]
  },
  {
   "cell_type": "markdown",
   "metadata": {
    "id": "Fy3CMUZpzH3d"
   },
   "source": [
    "### Plot the training and validation losses"
   ]
  },
  {
   "cell_type": "markdown",
   "metadata": {
    "id": "HSlo1F4xHuuM"
   },
   "source": [
    "The solid lines show the training loss, and the dashed lines show the validation loss (remember: a lower validation loss indicates a better model)."
   ]
  },
  {
   "cell_type": "markdown",
   "metadata": {
    "id": "OLhL1AszdLfM"
   },
   "source": [
    "While building a larger model gives it more power, if this power is not constrained somehow it can easily overfit to the training set.\n",
    "\n",
    "In this example, typically, only the `\"Tiny\"` model manages to avoid overfitting altogether, and each of the larger models overfit the data more quickly. This becomes so severe for the `\"large\"` model that you need to switch the plot to a log-scale to really see what's happening.\n",
    "\n",
    "This is apparent if you plot and compare the validation metrics to the training metrics.\n",
    "\n",
    "* It's normal for there to be a small difference.\n",
    "* If both metrics are moving in the same direction, everything is fine.\n",
    "* If the validation metric begins to stagnate while the training metric continues to improve, you are probably close to overfitting.\n",
    "* If the validation metric is going in the wrong direction, the model is clearly overfitting."
   ]
  },
  {
   "cell_type": "code",
   "execution_count": 55,
   "metadata": {
    "execution": {
     "iopub.execute_input": "2021-01-06T02:39:07.453506Z",
     "iopub.status.busy": "2021-01-06T02:39:07.452453Z",
     "iopub.status.idle": "2021-01-06T02:39:08.008656Z",
     "shell.execute_reply": "2021-01-06T02:39:08.009171Z"
    },
    "id": "0XmKDtOWzOpk"
   },
   "outputs": [
    {
     "data": {
      "text/plain": [
       "Text(0.5, 0, 'Epochs [Log Scale]')"
      ]
     },
     "execution_count": 55,
     "metadata": {},
     "output_type": "execute_result"
    },
    {
     "data": {
      "image/png": "[encoded data removed]",
      "text/plain": [
       "<Figure size 432x288 with 1 Axes>"
      ]
     },
     "metadata": {
      "needs_background": "light"
     },
     "output_type": "display_data"
    }
   ],
   "source": [
    "plotter.plot(size_histories)\n",
    "a = plt.xscale('log')\n",
    "plt.xlim([5, max(plt.xlim())])\n",
    "plt.ylim([0.5, 0.7])\n",
    "plt.xlabel(\"Epochs [Log Scale]\")"
   ]
  },
  {
   "cell_type": "markdown",
   "metadata": {
    "id": "UekcaQdmZxnW"
   },
   "source": [
    "Note: All the above training runs used the `callbacks.EarlyStopping` to end the training once it was clear the model was not making progress."
   ]
  },
  {
   "cell_type": "markdown",
   "metadata": {
    "id": "DEQNKadHA0M3"
   },
   "source": [
    "### View in TensorBoard\n",
    "\n",
    "These models all wrote TensorBoard logs during training.\n",
    "\n",
    "Open an embedded  TensorBoard viewer inside a notebook:"
   ]
  },
  {
   "cell_type": "code",
   "execution_count": 59,
   "metadata": {
    "id": "6oa1lkJddZ-m"
   },
   "outputs": [
    {
     "name": "stdout",
     "output_type": "stream",
     "text": [
      "The tensorboard extension is already loaded. To reload it, use:\n",
      "  %reload_ext tensorboard\n"
     ]
    },
    {
     "data": {
      "text/plain": [
       "Reusing TensorBoard on port 6006 (pid 19660), started 0:41:36 ago. (Use '!kill 19660' to kill it.)"
      ]
     },
     "metadata": {},
     "output_type": "display_data"
    },
    {
     "data": {
      "text/html": [
       "\n",
       "      <iframe id=\"tensorboard-frame-9554850b9034fdee\" width=\"100%\" height=\"800\" frameborder=\"0\">\n",
       "      </iframe>\n",
       "      <script>\n",
       "        (function() {\n",
       "          const frame = document.getElementById(\"tensorboard-frame-9554850b9034fdee\");\n",
       "          const url = new URL(\"/\", window.location);\n",
       "          const port = 6006;\n",
       "          if (port) {\n",
       "            url.port = port;\n",
       "          }\n",
       "          frame.src = url;\n",
       "        })();\n",
       "      </script>\n",
       "    "
      ],
      "text/plain": [
       "<IPython.core.display.HTML object>"
      ]
     },
     "metadata": {},
     "output_type": "display_data"
    }
   ],
   "source": [
    "#docs_infra: no_execute\n",
    "\n",
    "# Load the TensorBoard notebook extension\n",
    "%load_ext tensorboard\n",
    "\n",
    "# Open an embedded TensorBoard viewer\n",
    "%tensorboard --logdir {logdir}/sizes"
   ]
  },
  {
   "cell_type": "code",
   "execution_count": 60,
   "metadata": {},
   "outputs": [],
   "source": [
    "%reload_ext tensorboard"
   ]
  },
  {
   "cell_type": "markdown",
   "metadata": {
    "id": "fjqx3bywDPjf"
   },
   "source": [
    "You can view the [results of a previous run](https://tensorboard.dev/experiment/vW7jmmF9TmKmy3rbheMQpw/#scalars&_smoothingWeight=0.97) of this notebook on [TensorBoard.dev](https://tensorboard.dev/).\n",
    "\n",
    "TensorBoard.dev is a managed experience for hosting, tracking, and sharing ML experiments with everyone.\n",
    "\n",
    "It's also included in an `<iframe>` for convenience:"
   ]
  },
  {
   "cell_type": "code",
   "execution_count": 61,
   "metadata": {
    "execution": {
     "iopub.execute_input": "2021-01-06T02:39:08.014922Z",
     "iopub.status.busy": "2021-01-06T02:39:08.014100Z",
     "iopub.status.idle": "2021-01-06T02:39:08.016854Z",
     "shell.execute_reply": "2021-01-06T02:39:08.017314Z"
    },
    "id": "dX5fcgrADwym"
   },
   "outputs": [
    {
     "data": {
      "text/html": [
       "\n",
       "        <iframe\n",
       "            width=\"100%\"\n",
       "            height=\"800px\"\n",
       "            src=\"https://tensorboard.dev/experiment/vW7jmmF9TmKmy3rbheMQpw/#scalars&_smoothingWeight=0.97\"\n",
       "            frameborder=\"0\"\n",
       "            allowfullscreen\n",
       "        ></iframe>\n",
       "        "
      ],
      "text/plain": [
       "<IPython.lib.display.IFrame at 0x1ff079aa548>"
      ]
     },
     "execution_count": 61,
     "metadata": {},
     "output_type": "execute_result"
    }
   ],
   "source": [
    "display.IFrame(\n",
    "    src=\"https://tensorboard.dev/experiment/vW7jmmF9TmKmy3rbheMQpw/#scalars&_smoothingWeight=0.97\",\n",
    "    width=\"100%\", height=\"800px\")"
   ]
  },
  {
   "cell_type": "markdown",
   "metadata": {
    "id": "RDQDBKYZBXF_"
   },
   "source": [
    "If you want to share TensorBoard results you can upload the logs to [TensorBoard.dev](https://tensorboard.dev/) by copying the following into a code-cell.\n",
    "\n",
    "Note: This step requires a Google account.\n",
    "\n",
    "```\n",
    "!tensorboard dev upload --logdir  {logdir}/sizes\n",
    "```\n",
    "\n",
    "Caution: This command does not terminate. It's designed to continuously upload the results of long-running experiments. Once your data is uploaded you need to stop it using the \"interrupt execution\" option in your notebook tool."
   ]
  },
  {
   "cell_type": "markdown",
   "metadata": {
    "id": "ASdv7nsgEFhx"
   },
   "source": [
    "## Strategies to prevent overfitting"
   ]
  },
  {
   "cell_type": "markdown",
   "metadata": {
    "id": "YN512ksslaxJ"
   },
   "source": [
    "Before getting into the content of this section copy the training logs from the `\"Tiny\"` model above, to use as a baseline for comparison."
   ]
  },
  {
   "cell_type": "code",
   "execution_count": 62,
   "metadata": {
    "execution": {
     "iopub.execute_input": "2021-01-06T02:39:08.021670Z",
     "iopub.status.busy": "2021-01-06T02:39:08.021104Z",
     "iopub.status.idle": "2021-01-06T02:39:08.026938Z",
     "shell.execute_reply": "2021-01-06T02:39:08.026380Z"
    },
    "id": "40k1eBtnQzNo"
   },
   "outputs": [
    {
     "data": {
      "text/plain": [
       "WindowsPath('C:/Users/Marciano/AppData/Local/Temp/tmp74vk7qyz/tensorboard_logs/regularizers/Tiny')"
      ]
     },
     "execution_count": 62,
     "metadata": {},
     "output_type": "execute_result"
    }
   ],
   "source": [
    "shutil.rmtree(logdir/'regularizers/Tiny', ignore_errors=True)\n",
    "shutil.copytree(logdir/'sizes/Tiny', logdir/'regularizers/Tiny')"
   ]
  },
  {
   "cell_type": "code",
   "execution_count": 63,
   "metadata": {
    "execution": {
     "iopub.execute_input": "2021-01-06T02:39:08.030968Z",
     "iopub.status.busy": "2021-01-06T02:39:08.030276Z",
     "iopub.status.idle": "2021-01-06T02:39:08.032328Z",
     "shell.execute_reply": "2021-01-06T02:39:08.032699Z"
    },
    "id": "vFWMeFo7jLpN"
   },
   "outputs": [],
   "source": [
    "regularizer_histories = {}\n",
    "regularizer_histories['Tiny'] = size_histories['Tiny']"
   ]
  },
  {
   "cell_type": "markdown",
   "metadata": {
    "id": "4rHoVWcswFLa"
   },
   "source": [
    "### Add weight regularization\n"
   ]
  },
  {
   "cell_type": "markdown",
   "metadata": {
    "id": "kRxWepNawbBK"
   },
   "source": [
    "You may be familiar with Occam's Razor principle: given two explanations for something, the explanation most likely to be correct is the \"simplest\" one, the one that makes the least amount of assumptions. This also applies to the models learned by neural networks: given some training data and a network architecture, there are multiple sets of weights values (multiple models) that could explain the data, and simpler models are less likely to overfit than complex ones.\n",
    "\n",
    "A \"simple model\" in this context is a model where the distribution of parameter values has less entropy (or a model with fewer parameters altogether, as we saw in the section above). Thus a common way to mitigate overfitting is to put constraints on the complexity of a network by forcing its weights only to take small values, which makes the distribution of weight values more \"regular\". This is called \"weight regularization\", and it is done by adding to the loss function of the network a cost associated with having large weights. This cost comes in two flavors:\n",
    "\n",
    "* [L1 regularization](https://developers.google.com/machine-learning/glossary/#L1_regularization), where the cost added is proportional to the absolute value of the weights coefficients (i.e. to what is called the \"L1 norm\" of the weights).\n",
    "\n",
    "* [L2 regularization](https://developers.google.com/machine-learning/glossary/#L2_regularization), where the cost added is proportional to the square of the value of the weights coefficients (i.e. to what is called the squared \"L2 norm\" of the weights). L2 regularization is also called weight decay in the context of neural networks. Don't let the different name confuse you: weight decay is mathematically the exact same as L2 regularization.\n",
    "\n",
    "L1 regularization pushes weights towards exactly zero encouraging a sparse model. L2 regularization will penalize the weights parameters without making them sparse since the penalty goes to zero for small weights-one reason why L2 is more common.\n",
    "\n",
    "In `tf.keras`, weight regularization is added by passing weight regularizer instances to layers as keyword arguments. Let's add L2 weight regularization now."
   ]
  },
  {
   "cell_type": "code",
   "execution_count": 64,
   "metadata": {
    "execution": {
     "iopub.execute_input": "2021-01-06T02:39:08.046185Z",
     "iopub.status.busy": "2021-01-06T02:39:08.045523Z",
     "iopub.status.idle": "2021-01-06T02:40:50.327239Z",
     "shell.execute_reply": "2021-01-06T02:40:50.326566Z"
    },
    "id": "HFGmcwduwVyQ"
   },
   "outputs": [
    {
     "name": "stdout",
     "output_type": "stream",
     "text": [
      "Model: \"sequential_4\"\n",
      "_________________________________________________________________\n",
      " Layer (type)                Output Shape              Param #   \n",
      "=================================================================\n",
      " dense_14 (Dense)            (None, 512)               14848     \n",
      "                                                                 \n",
      " dense_15 (Dense)            (None, 512)               262656    \n",
      "                                                                 \n",
      " dense_16 (Dense)            (None, 512)               262656    \n",
      "                                                                 \n",
      " dense_17 (Dense)            (None, 512)               262656    \n",
      "                                                                 \n",
      " dense_18 (Dense)            (None, 1)                 513       \n",
      "                                                                 \n",
      "=================================================================\n",
      "Total params: 803,329\n",
      "Trainable params: 803,329\n",
      "Non-trainable params: 0\n",
      "_________________________________________________________________\n",
      "\n",
      "Epoch: 0, accuracy:0.5003,  binary_crossentropy:0.8215,  loss:2.3460,  val_accuracy:0.5390,  val_binary_crossentropy:0.6707,  val_loss:2.1229,  \n",
      "....................................................................................................\n",
      "Epoch: 100, accuracy:0.6551,  binary_crossentropy:0.5975,  loss:0.6217,  val_accuracy:0.6560,  val_binary_crossentropy:0.5810,  val_loss:0.6047,  \n",
      "....................................................................................................\n",
      "Epoch: 200, accuracy:0.6729,  binary_crossentropy:0.5804,  loss:0.6040,  val_accuracy:0.6740,  val_binary_crossentropy:0.5721,  val_loss:0.5956,  \n",
      "....................................................................................................\n",
      "Epoch: 300, accuracy:0.6806,  binary_crossentropy:0.5730,  loss:0.5980,  val_accuracy:0.6690,  val_binary_crossentropy:0.5825,  val_loss:0.6068,  \n",
      "....................................................................................................\n",
      "Epoch: 400, accuracy:0.6911,  binary_crossentropy:0.5661,  loss:0.5918,  val_accuracy:0.6570,  val_binary_crossentropy:0.5801,  val_loss:0.6055,  \n",
      "............................................................................................."
     ]
    }
   ],
   "source": [
    "l2_model = tf.keras.Sequential([\n",
    "    layers.Dense(512, activation='elu',\n",
    "                 kernel_regularizer=regularizers.l2(0.001),\n",
    "                 input_shape=(FEATURES,)),\n",
    "    layers.Dense(512, activation='elu',\n",
    "                 kernel_regularizer=regularizers.l2(0.001)),\n",
    "    layers.Dense(512, activation='elu',\n",
    "                 kernel_regularizer=regularizers.l2(0.001)),\n",
    "    layers.Dense(512, activation='elu',\n",
    "                 kernel_regularizer=regularizers.l2(0.001)),\n",
    "    layers.Dense(1)\n",
    "])\n",
    "\n",
    "regularizer_histories['l2'] = compile_and_fit(l2_model, \"regularizers/l2\")"
   ]
  },
  {
   "cell_type": "markdown",
   "metadata": {
    "id": "bUUHoXb7w-_C"
   },
   "source": [
    "`l2(0.001)` means that every coefficient in the weight matrix of the layer will add `0.001 * weight_coefficient_value**2` to the total **loss** of the network.\n",
    "\n",
    "That is why we're monitoring the `binary_crossentropy` directly. Because it doesn't have this regularization component mixed in.\n",
    "\n",
    "So, that same `\"Large\"` model with an `L2` regularization penalty performs much better:\n"
   ]
  },
  {
   "cell_type": "code",
   "execution_count": 65,
   "metadata": {
    "execution": {
     "iopub.execute_input": "2021-01-06T02:40:50.332110Z",
     "iopub.status.busy": "2021-01-06T02:40:50.331485Z",
     "iopub.status.idle": "2021-01-06T02:40:50.541393Z",
     "shell.execute_reply": "2021-01-06T02:40:50.541833Z"
    },
    "id": "7wkfLyxBZdh_"
   },
   "outputs": [
    {
     "data": {
      "text/plain": [
       "(0.5, 0.7)"
      ]
     },
     "execution_count": 65,
     "metadata": {},
     "output_type": "execute_result"
    },
    {
     "data": {
      "image/png": "[encoded data removed]",
      "text/plain": [
       "<Figure size 432x288 with 1 Axes>"
      ]
     },
     "metadata": {
      "needs_background": "light"
     },
     "output_type": "display_data"
    }
   ],
   "source": [
    "plotter.plot(regularizer_histories)\n",
    "plt.ylim([0.5, 0.7])"
   ]
  },
  {
   "cell_type": "markdown",
   "metadata": {
    "id": "Kx1YHMsVxWjP"
   },
   "source": [
    "As you can see, the `\"L2\"` regularized model is now much more competitive with the the `\"Tiny\"` model. This `\"L2\"` model is also much more resistant to overfitting than the `\"Large\"` model it was based on despite having the same number of parameters."
   ]
  },
  {
   "cell_type": "markdown",
   "metadata": {
    "id": "JheBk6f8jMQ7"
   },
   "source": [
    "#### More info\n",
    "\n",
    "There are two important things to note about this sort of regularization.\n",
    "\n",
    "**First:** if you are writing your own training loop, then you need to be sure to ask the model for its regularization losses."
   ]
  },
  {
   "cell_type": "code",
   "execution_count": 66,
   "metadata": {
    "execution": {
     "iopub.execute_input": "2021-01-06T02:40:50.547072Z",
     "iopub.status.busy": "2021-01-06T02:40:50.546361Z",
     "iopub.status.idle": "2021-01-06T02:40:50.553025Z",
     "shell.execute_reply": "2021-01-06T02:40:50.553434Z"
    },
    "id": "apDHQNybjaML"
   },
   "outputs": [],
   "source": [
    "result = l2_model(features)\n",
    "regularization_loss=tf.add_n(l2_model.losses)"
   ]
  },
  {
   "cell_type": "markdown",
   "metadata": {
    "id": "MLhG6fMSjE-J"
   },
   "source": [
    "**Second:** This implementation works by adding the weight penalties to the model's loss, and then applying a standard optimization procedure after that.\n",
    "\n",
    "There is a second approach that instead only runs the optimizer on the raw loss, and then while applying the calculated step the optimizer also applies some weight decay. This \"Decoupled Weight Decay\" is seen in optimizers like `optimizers.FTRL` and `optimizers.AdamW`."
   ]
  },
  {
   "cell_type": "markdown",
   "metadata": {
    "id": "HmnBNOOVxiG8"
   },
   "source": [
    "### Add dropout\n",
    "\n",
    "Dropout is one of the most effective and most commonly used regularization techniques for neural networks, developed by Hinton and his students at the University of Toronto.\n",
    "\n",
    "The intuitive explanation for dropout is that because individual nodes in the network cannot rely on the output of the others, each node must output features that are useful on their own.\n",
    "\n",
    "Dropout, applied to a layer, consists of randomly \"dropping out\" (i.e. set to zero) a number of output features of the layer during training. Let's say a given layer would normally have returned a vector [0.2, 0.5, 1.3, 0.8, 1.1] for a given input sample during training; after applying dropout, this vector will have a few zero entries distributed at random, e.g. [0, 0.5,\n",
    "1.3, 0, 1.1].\n",
    "\n",
    "The \"dropout rate\" is the fraction of the features that are being zeroed-out; it is usually set between 0.2 and 0.5. At test time, no units are dropped out, and instead the layer's output values are scaled down by a factor equal to the dropout rate, so as to balance for the fact that more units are active than at training time.\n",
    "\n",
    "In `tf.keras` you can introduce dropout in a network via the Dropout layer, which gets applied to the output of layer right before.\n",
    "\n",
    "Let's add two Dropout layers in our network to see how well they do at reducing overfitting:"
   ]
  },
  {
   "cell_type": "code",
   "execution_count": 67,
   "metadata": {
    "execution": {
     "iopub.execute_input": "2021-01-06T02:40:50.567942Z",
     "iopub.status.busy": "2021-01-06T02:40:50.566527Z",
     "iopub.status.idle": "2021-01-06T02:41:32.633658Z",
     "shell.execute_reply": "2021-01-06T02:41:32.633031Z"
    },
    "id": "OFEYvtrHxSWS"
   },
   "outputs": [
    {
     "name": "stdout",
     "output_type": "stream",
     "text": [
      "Model: \"sequential_5\"\n",
      "_________________________________________________________________\n",
      " Layer (type)                Output Shape              Param #   \n",
      "=================================================================\n",
      " dense_19 (Dense)            (None, 512)               14848     \n",
      "                                                                 \n",
      " dropout (Dropout)           (None, 512)               0         \n",
      "                                                                 \n",
      " dense_20 (Dense)            (None, 512)               262656    \n",
      "                                                                 \n",
      " dropout_1 (Dropout)         (None, 512)               0         \n",
      "                                                                 \n",
      " dense_21 (Dense)            (None, 512)               262656    \n",
      "                                                                 \n",
      " dropout_2 (Dropout)         (None, 512)               0         \n",
      "                                                                 \n",
      " dense_22 (Dense)            (None, 512)               262656    \n",
      "                                                                 \n",
      " dropout_3 (Dropout)         (None, 512)               0         \n",
      "                                                                 \n",
      " dense_23 (Dense)            (None, 1)                 513       \n",
      "                                                                 \n",
      "=================================================================\n",
      "Total params: 803,329\n",
      "Trainable params: 803,329\n",
      "Non-trainable params: 0\n",
      "_________________________________________________________________\n",
      "\n",
      "Epoch: 0, accuracy:0.5138,  binary_crossentropy:0.7972,  loss:0.7972,  val_accuracy:0.5270,  val_binary_crossentropy:0.6915,  val_loss:0.6915,  \n",
      "....................................................................................................\n",
      "Epoch: 100, accuracy:0.6626,  binary_crossentropy:0.5932,  loss:0.5932,  val_accuracy:0.6890,  val_binary_crossentropy:0.5771,  val_loss:0.5771,  \n",
      "....................................................................................................\n",
      "Epoch: 200, accuracy:0.6806,  binary_crossentropy:0.5609,  loss:0.5609,  val_accuracy:0.6840,  val_binary_crossentropy:0.5878,  val_loss:0.5878,  \n",
      "....................................................................................................\n",
      "Epoch: 300, accuracy:0.7193,  binary_crossentropy:0.5091,  loss:0.5091,  val_accuracy:0.6950,  val_binary_crossentropy:0.6019,  val_loss:0.6019,  \n",
      "...................................."
     ]
    }
   ],
   "source": [
    "dropout_model = tf.keras.Sequential([\n",
    "    layers.Dense(512, activation='elu', input_shape=(FEATURES,)),\n",
    "    layers.Dropout(0.5),\n",
    "    layers.Dense(512, activation='elu'),\n",
    "    layers.Dropout(0.5),\n",
    "    layers.Dense(512, activation='elu'),\n",
    "    layers.Dropout(0.5),\n",
    "    layers.Dense(512, activation='elu'),\n",
    "    layers.Dropout(0.5),\n",
    "    layers.Dense(1)\n",
    "])\n",
    "\n",
    "regularizer_histories['dropout'] = compile_and_fit(dropout_model, \"regularizers/dropout\")"
   ]
  },
  {
   "cell_type": "code",
   "execution_count": 68,
   "metadata": {
    "execution": {
     "iopub.execute_input": "2021-01-06T02:41:32.638124Z",
     "iopub.status.busy": "2021-01-06T02:41:32.637493Z",
     "iopub.status.idle": "2021-01-06T02:41:32.852430Z",
     "shell.execute_reply": "2021-01-06T02:41:32.852842Z"
    },
    "id": "SPZqwVchx5xp"
   },
   "outputs": [
    {
     "data": {
      "text/plain": [
       "(0.5, 0.7)"
      ]
     },
     "execution_count": 68,
     "metadata": {},
     "output_type": "execute_result"
    },
    {
     "data": {
      "image/png": "[encoded data removed]",
      "text/plain": [
       "<Figure size 432x288 with 1 Axes>"
      ]
     },
     "metadata": {
      "needs_background": "light"
     },
     "output_type": "display_data"
    }
   ],
   "source": [
    "plotter.plot(regularizer_histories)\n",
    "plt.ylim([0.5, 0.7])"
   ]
  },
  {
   "cell_type": "markdown",
   "metadata": {
    "id": "4zlHr4iaI1U6"
   },
   "source": [
    "It's clear from this plot that both of these regularization approaches improve the behavior of the `\"Large\"` model. But this still doesn't beat even the `\"Tiny\"` baseline.\n",
    "\n",
    "Next try them both, together, and see if that does better."
   ]
  },
  {
   "cell_type": "markdown",
   "metadata": {
    "id": "u7qMg_7Nwy5t"
   },
   "source": [
    "### Combined L2 + dropout"
   ]
  },
  {
   "cell_type": "code",
   "execution_count": 69,
   "metadata": {
    "execution": {
     "iopub.execute_input": "2021-01-06T02:41:32.867191Z",
     "iopub.status.busy": "2021-01-06T02:41:32.865198Z",
     "iopub.status.idle": "2021-01-06T02:43:43.608111Z",
     "shell.execute_reply": "2021-01-06T02:43:43.608559Z"
    },
    "id": "7zfs_qQIw1cz"
   },
   "outputs": [
    {
     "name": "stdout",
     "output_type": "stream",
     "text": [
      "Model: \"sequential_6\"\n",
      "_________________________________________________________________\n",
      " Layer (type)                Output Shape              Param #   \n",
      "=================================================================\n",
      " dense_24 (Dense)            (None, 512)               14848     \n",
      "                                                                 \n",
      " dropout_4 (Dropout)         (None, 512)               0         \n",
      "                                                                 \n",
      " dense_25 (Dense)            (None, 512)               262656    \n",
      "                                                                 \n",
      " dropout_5 (Dropout)         (None, 512)               0         \n",
      "                                                                 \n",
      " dense_26 (Dense)            (None, 512)               262656    \n",
      "                                                                 \n",
      " dropout_6 (Dropout)         (None, 512)               0         \n",
      "                                                                 \n",
      " dense_27 (Dense)            (None, 512)               262656    \n",
      "                                                                 \n",
      " dropout_7 (Dropout)         (None, 512)               0         \n",
      "                                                                 \n",
      " dense_28 (Dense)            (None, 1)                 513       \n",
      "                                                                 \n",
      "=================================================================\n",
      "Total params: 803,329\n",
      "Trainable params: 803,329\n",
      "Non-trainable params: 0\n",
      "_________________________________________________________________\n",
      "\n",
      "Epoch: 0, accuracy:0.5029,  binary_crossentropy:0.7970,  loss:0.9555,  val_accuracy:0.5420,  val_binary_crossentropy:0.6706,  val_loss:0.8283,  \n",
      "....................................................................................................\n",
      "Epoch: 100, accuracy:0.6519,  binary_crossentropy:0.6041,  loss:0.6337,  val_accuracy:0.6730,  val_binary_crossentropy:0.5815,  val_loss:0.6109,  \n",
      "....................................................................................................\n",
      "Epoch: 200, accuracy:0.6676,  binary_crossentropy:0.5893,  loss:0.6144,  val_accuracy:0.6820,  val_binary_crossentropy:0.5792,  val_loss:0.6043,  \n",
      "....................................................................................................\n",
      "Epoch: 300, accuracy:0.6713,  binary_crossentropy:0.5840,  loss:0.6116,  val_accuracy:0.6580,  val_binary_crossentropy:0.5719,  val_loss:0.5996,  \n",
      "....................................................................................................\n",
      "Epoch: 400, accuracy:0.6806,  binary_crossentropy:0.5736,  loss:0.6035,  val_accuracy:0.6840,  val_binary_crossentropy:0.5557,  val_loss:0.5857,  \n",
      "....................................................................................................\n",
      "Epoch: 500, accuracy:0.6801,  binary_crossentropy:0.5717,  loss:0.6036,  val_accuracy:0.6750,  val_binary_crossentropy:0.5509,  val_loss:0.5828,  \n",
      "....................................................................................................\n",
      "Epoch: 600, accuracy:0.6821,  binary_crossentropy:0.5653,  loss:0.5983,  val_accuracy:0.6980,  val_binary_crossentropy:0.5441,  val_loss:0.5770,  \n",
      "....................................................................................................\n",
      "Epoch: 700, accuracy:0.6853,  binary_crossentropy:0.5637,  loss:0.5979,  val_accuracy:0.7030,  val_binary_crossentropy:0.5445,  val_loss:0.5788,  \n",
      "....................................................................................................\n",
      "Epoch: 800, accuracy:0.6886,  binary_crossentropy:0.5605,  loss:0.5959,  val_accuracy:0.6870,  val_binary_crossentropy:0.5444,  val_loss:0.5798,  \n",
      "....................................................................................................\n",
      "Epoch: 900, accuracy:0.6883,  binary_crossentropy:0.5596,  loss:0.5966,  val_accuracy:0.6980,  val_binary_crossentropy:0.5470,  val_loss:0.5840,  \n",
      "....................................................................................................\n",
      "Epoch: 1000, accuracy:0.6958,  binary_crossentropy:0.5536,  loss:0.5918,  val_accuracy:0.7120,  val_binary_crossentropy:0.5421,  val_loss:0.5803,  \n",
      "....................................................................................................\n",
      "Epoch: 1100, accuracy:0.6873,  binary_crossentropy:0.5544,  loss:0.5937,  val_accuracy:0.7030,  val_binary_crossentropy:0.5396,  val_loss:0.5788,  \n",
      "....................................................................................................\n",
      "Epoch: 1200, accuracy:0.7051,  binary_crossentropy:0.5457,  loss:0.5862,  val_accuracy:0.6970,  val_binary_crossentropy:0.5409,  val_loss:0.5814,  \n",
      "............."
     ]
    }
   ],
   "source": [
    "combined_model = tf.keras.Sequential([\n",
    "    layers.Dense(512, kernel_regularizer=regularizers.l2(0.0001),\n",
    "                 activation='elu', input_shape=(FEATURES,)),\n",
    "    layers.Dropout(0.5),\n",
    "    layers.Dense(512, kernel_regularizer=regularizers.l2(0.0001),\n",
    "                 activation='elu'),\n",
    "    layers.Dropout(0.5),\n",
    "    layers.Dense(512, kernel_regularizer=regularizers.l2(0.0001),\n",
    "                 activation='elu'),\n",
    "    layers.Dropout(0.5),\n",
    "    layers.Dense(512, kernel_regularizer=regularizers.l2(0.0001),\n",
    "                 activation='elu'),\n",
    "    layers.Dropout(0.5),\n",
    "    layers.Dense(1)\n",
    "])\n",
    "\n",
    "regularizer_histories['combined'] = compile_and_fit(combined_model, \"regularizers/combined\")"
   ]
  },
  {
   "cell_type": "code",
   "execution_count": 70,
   "metadata": {
    "execution": {
     "iopub.execute_input": "2021-01-06T02:43:43.613344Z",
     "iopub.status.busy": "2021-01-06T02:43:43.612651Z",
     "iopub.status.idle": "2021-01-06T02:43:43.904244Z",
     "shell.execute_reply": "2021-01-06T02:43:43.904653Z"
    },
    "id": "qDqBBxfI0Yd8"
   },
   "outputs": [
    {
     "data": {
      "text/plain": [
       "(0.5, 0.7)"
      ]
     },
     "execution_count": 70,
     "metadata": {},
     "output_type": "execute_result"
    },
    {
     "data": {
      "image/png": "[encoded data removed]",
      "text/plain": [
       "<Figure size 432x288 with 1 Axes>"
      ]
     },
     "metadata": {
      "needs_background": "light"
     },
     "output_type": "display_data"
    }
   ],
   "source": [
    "plotter.plot(regularizer_histories)\n",
    "plt.ylim([0.5, 0.7])"
   ]
  },
  {
   "cell_type": "markdown",
   "metadata": {
    "id": "tE0OoNCQNTJv"
   },
   "source": [
    "This model with the `\"Combined\"` regularization is obviously the best one so far."
   ]
  },
  {
   "cell_type": "markdown",
   "metadata": {
    "id": "-dw23T03FEO1"
   },
   "source": [
    "### View in TensorBoard\n",
    "\n",
    "These models also recorded TensorBoard logs.\n",
    "\n",
    "To open an embedded  tensorboard viewer inside a notebook, copy the following into a code-cell:\n",
    "\n",
    "```\n",
    "%tensorboard --logdir {logdir}/regularizers\n",
    "```"
   ]
  },
  {
   "cell_type": "markdown",
   "metadata": {
    "id": "KX3Voac-FEO4"
   },
   "source": [
    "You can view the [results of a previous run](https://tensorboard.dev/experiment/fGInKDo8TXes1z7HQku9mw/#scalars&_smoothingWeight=0.97) of this notebook on [TensorDoard.dev](https://tensorboard.dev/).\n",
    "\n",
    "It's also included in an `<iframe>` for convenience:"
   ]
  },
  {
   "cell_type": "code",
   "execution_count": 71,
   "metadata": {
    "execution": {
     "iopub.execute_input": "2021-01-06T02:43:43.910217Z",
     "iopub.status.busy": "2021-01-06T02:43:43.909313Z",
     "iopub.status.idle": "2021-01-06T02:43:43.912791Z",
     "shell.execute_reply": "2021-01-06T02:43:43.912225Z"
    },
    "id": "doMtyYoqFEO5"
   },
   "outputs": [
    {
     "data": {
      "text/html": [
       "\n",
       "        <iframe\n",
       "            width=\"100%\"\n",
       "            height=\"800px\"\n",
       "            src=\"https://tensorboard.dev/experiment/fGInKDo8TXes1z7HQku9mw/#scalars&_smoothingWeight=0.97\"\n",
       "            frameborder=\"0\"\n",
       "            allowfullscreen\n",
       "        ></iframe>\n",
       "        "
      ],
      "text/plain": [
       "<IPython.lib.display.IFrame at 0x1ff37a03bc8>"
      ]
     },
     "execution_count": 71,
     "metadata": {},
     "output_type": "execute_result"
    }
   ],
   "source": [
    "display.IFrame(\n",
    "    src=\"https://tensorboard.dev/experiment/fGInKDo8TXes1z7HQku9mw/#scalars&_smoothingWeight=0.97\",\n",
    "    width = \"100%\",\n",
    "    height=\"800px\")\n"
   ]
  },
  {
   "cell_type": "markdown",
   "metadata": {
    "id": "mds5RXGjIcSu"
   },
   "source": [
    "This was uploaded with:\n",
    "\n",
    "```\n",
    "!tensorboard dev upload --logdir  {logdir}/regularizers\n",
    "```"
   ]
  },
  {
   "cell_type": "markdown",
   "metadata": {
    "id": "uXJxtwBWIhjG"
   },
   "source": [
    "## Conclusions"
   ]
  },
  {
   "cell_type": "markdown",
   "metadata": {
    "id": "gjfnkEeQyAFG"
   },
   "source": [
    "To recap: here are the most common ways to prevent overfitting in neural networks:\n",
    "\n",
    "* Get more training data.\n",
    "* Reduce the capacity of the network.\n",
    "* Add weight regularization.\n",
    "* Add dropout.\n",
    "\n",
    "Two important approaches not covered in this guide are:\n",
    "\n",
    "* data-augmentation\n",
    "* batch normalization\n",
    "\n",
    "Remember that each method can help on its own, but often combining them can be even more effective."
   ]
  }
 ],
 "metadata": {
  "accelerator": "GPU",
  "colab": {
   "collapsed_sections": [],
   "name": "overfit_and_underfit.ipynb",
   "toc_visible": true
  },
  "kernelspec": {
   "display_name": "Python 3",
   "language": "python",
   "name": "python3"
  },
  "language_info": {
   "codemirror_mode": {
    "name": "ipython",
    "version": 3
   },
   "file_extension": ".py",
   "mimetype": "text/x-python",
   "name": "python",
   "nbconvert_exporter": "python",
   "pygments_lexer": "ipython3",
   "version": "3.7.10"
  }
 },
 "nbformat": 4,
 "nbformat_minor": 1
}
