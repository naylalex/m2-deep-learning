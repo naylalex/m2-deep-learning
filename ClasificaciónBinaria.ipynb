{
 "cells": [
  {
   "cell_type": "markdown",
   "metadata": {},
   "source": [
    "# Clasificación binaria\n",
    "Se implementará un modelo de clasificación binaria para un datasets con clases altamente desbalanceadas."
   ]
  },
  {
   "cell_type": "markdown",
   "metadata": {},
   "source": [
    "## Descargar el dataset"
   ]
  },
  {
   "cell_type": "code",
   "execution_count": 1,
   "metadata": {},
   "outputs": [
    {
     "name": "stdout",
     "output_type": "stream",
     "text": [
      "  % Total    % Received % Xferd  Average Speed   Time    Time     Time  Current\n",
      "                                 Dload  Upload   Total   Spent    Left  Speed\n",
      "100 65.9M  100 65.9M    0     0  87.2M      0 --:--:-- --:--:-- --:--:-- 87.1M\n",
      "Archive:  Kaggle-Credit-Card-Fraud-Detection.zip\n",
      "  inflating: datasets/credit-card-fraud-detection/creditcard.csv  \n"
     ]
    }
   ],
   "source": [
    "!curl -O https://storage.googleapis.com/naylalex-deep-learning/Kaggle-Credit-Card-Fraud-Detection.zip\n",
    "!unzip -d datasets/credit-card-fraud-detection/ Kaggle-Credit-Card-Fraud-Detection.zip\n",
    "!rm Kaggle-Credit-Card-Fraud-Detection.zip"
   ]
  },
  {
   "cell_type": "markdown",
   "metadata": {},
   "source": [
    "## Vectorizar los datos CSV"
   ]
  },
  {
   "cell_type": "code",
   "execution_count": 2,
   "metadata": {},
   "outputs": [
    {
     "name": "stdout",
     "output_type": "stream",
     "text": [
      "HEADER: \"Time\",\"V1\",\"V2\",\"V3\",\"V4\",\"V5\",\"V6\",\"V7\",\"V8\",\"V9\",\"V10\",\"V11\",\"V12\",\"V13\",\"V14\",\"V15\",\"V16\",\"V17\",\"V18\",\"V19\",\"V20\",\"V21\",\"V22\",\"V23\",\"V24\",\"V25\",\"V26\",\"V27\",\"V28\",\"Amount\",\"Class\"\n",
      "EXAMPLE FEATURES: [0.0, -1.3598071336738, -0.0727811733098497, 2.53634673796914, 1.37815522427443, -0.338320769942518, 0.462387777762292, 0.239598554061257, 0.0986979012610507, 0.363786969611213, 0.0907941719789316, -0.551599533260813, -0.617800855762348, -0.991389847235408, -0.311169353699879, 1.46817697209427, -0.470400525259478, 0.207971241929242, 0.0257905801985591, 0.403992960255733, 0.251412098239705, -0.018306777944153, 0.277837575558899, -0.110473910188767, 0.0669280749146731, 0.128539358273528, -0.189114843888824, 0.133558376740387, -0.0210530534538215, 149.62]\n",
      "features.shape: (284807, 30)\n",
      "targets.shape: (284807, 1)\n"
     ]
    }
   ],
   "source": [
    "import csv\n",
    "import numpy as np\n",
    "\n",
    "# Get the real data from https://www.kaggle.com/mlg-ulb/creditcardfraud/\n",
    "fname = \"./datasets/credit-card-fraud-detection/creditcard.csv\"\n",
    "\n",
    "all_features = []\n",
    "all_targets = []\n",
    "with open(fname) as f:\n",
    "    for i, line in enumerate(f):\n",
    "        if i == 0:\n",
    "            print(\"HEADER:\", line.strip())\n",
    "            continue  # Skip header\n",
    "        fields = line.strip().split(\",\")\n",
    "        all_features.append([float(v.replace('\"', \"\")) for v in fields[:-1]])\n",
    "        all_targets.append([int(fields[-1].replace('\"', \"\"))])\n",
    "        if i == 1:\n",
    "            print(\"EXAMPLE FEATURES:\", all_features[-1])\n",
    "\n",
    "features = np.array(all_features, dtype=\"float32\")\n",
    "targets = np.array(all_targets, dtype=\"uint8\")\n",
    "print(\"features.shape:\", features.shape)\n",
    "print(\"targets.shape:\", targets.shape)"
   ]
  },
  {
   "cell_type": "markdown",
   "metadata": {},
   "source": [
    "## Preparar un dataset de validación"
   ]
  },
  {
   "cell_type": "code",
   "execution_count": 3,
   "metadata": {},
   "outputs": [
    {
     "name": "stdout",
     "output_type": "stream",
     "text": [
      "Number of training samples: 227846\n",
      "Number of validation samples: 56961\n"
     ]
    }
   ],
   "source": [
    "num_val_samples = int(len(features) * 0.2)\n",
    "train_features = features[:-num_val_samples]\n",
    "train_targets = targets[:-num_val_samples]\n",
    "val_features = features[-num_val_samples:]\n",
    "val_targets = targets[-num_val_samples:]\n",
    "\n",
    "print(\"Number of training samples:\", len(train_features))\n",
    "print(\"Number of validation samples:\", len(val_features))"
   ]
  },
  {
   "cell_type": "markdown",
   "metadata": {},
   "source": [
    "## Analizar el desbalance de clases en los targets"
   ]
  },
  {
   "cell_type": "code",
   "execution_count": 4,
   "metadata": {},
   "outputs": [
    {
     "name": "stdout",
     "output_type": "stream",
     "text": [
      "Number of positive samples in training data: 417 (0.18% of total)\n"
     ]
    }
   ],
   "source": [
    "counts = np.bincount(train_targets[:, 0])\n",
    "print(\n",
    "    \"Number of positive samples in training data: {} ({:.2f}% of total)\".format(\n",
    "        counts[1], 100 * float(counts[1]) / len(train_targets)\n",
    "    )\n",
    ")\n",
    "\n",
    "weight_for_0 = 1.0 / counts[0]\n",
    "weight_for_1 = 1.0 / counts[1]"
   ]
  },
  {
   "cell_type": "markdown",
   "metadata": {},
   "source": [
    "## Normalizar los datos empleando estadísticas del training set"
   ]
  },
  {
   "cell_type": "code",
   "execution_count": 5,
   "metadata": {},
   "outputs": [],
   "source": [
    "mean = np.mean(train_features, axis=0)\n",
    "train_features -= mean\n",
    "val_features -= mean\n",
    "std = np.std(train_features, axis=0)\n",
    "train_features /= std\n",
    "val_features /= std"
   ]
  },
  {
   "cell_type": "markdown",
   "metadata": {},
   "source": [
    "## Generar un modelo de clasificación binaria"
   ]
  },
  {
   "cell_type": "code",
   "execution_count": 6,
   "metadata": {},
   "outputs": [
    {
     "name": "stderr",
     "output_type": "stream",
     "text": [
      "2022-03-22 04:30:52.293050: I tensorflow/compiler/jit/xla_cpu_device.cc:41] Not creating XLA devices, tf_xla_enable_xla_devices not set\n",
      "2022-03-22 04:30:52.293811: I tensorflow/core/platform/cpu_feature_guard.cc:142] This TensorFlow binary is optimized with oneAPI Deep Neural Network Library (oneDNN) to use the following CPU instructions in performance-critical operations:  SSE4.1 SSE4.2 AVX AVX2 AVX512F FMA\n",
      "To enable them in other operations, rebuild TensorFlow with the appropriate compiler flags.\n",
      "2022-03-22 04:30:52.366704: I tensorflow/core/common_runtime/process_util.cc:146] Creating new thread pool with default inter op setting: 2. Tune using inter_op_parallelism_threads for best performance.\n"
     ]
    },
    {
     "name": "stdout",
     "output_type": "stream",
     "text": [
      "Model: \"sequential\"\n",
      "_________________________________________________________________\n",
      "Layer (type)                 Output Shape              Param #   \n",
      "=================================================================\n",
      "dense (Dense)                (None, 256)               7936      \n",
      "_________________________________________________________________\n",
      "dense_1 (Dense)              (None, 256)               65792     \n",
      "_________________________________________________________________\n",
      "dropout (Dropout)            (None, 256)               0         \n",
      "_________________________________________________________________\n",
      "dense_2 (Dense)              (None, 256)               65792     \n",
      "_________________________________________________________________\n",
      "dropout_1 (Dropout)          (None, 256)               0         \n",
      "_________________________________________________________________\n",
      "dense_3 (Dense)              (None, 1)                 257       \n",
      "=================================================================\n",
      "Total params: 139,777\n",
      "Trainable params: 139,777\n",
      "Non-trainable params: 0\n",
      "_________________________________________________________________\n"
     ]
    }
   ],
   "source": [
    "from tensorflow import keras\n",
    "\n",
    "model = keras.Sequential(\n",
    "    [\n",
    "        keras.layers.Dense(\n",
    "            256, activation=\"relu\", input_shape=(train_features.shape[-1],)\n",
    "        ),\n",
    "        keras.layers.Dense(256, activation=\"relu\"),\n",
    "        keras.layers.Dropout(0.3),\n",
    "        keras.layers.Dense(256, activation=\"relu\"),\n",
    "        keras.layers.Dropout(0.3),\n",
    "        keras.layers.Dense(1, activation=\"sigmoid\"),\n",
    "    ]\n",
    ")\n",
    "model.summary()"
   ]
  },
  {
   "cell_type": "markdown",
   "metadata": {},
   "source": [
    "## Entrenar el modelo con el argumento class_weight"
   ]
  },
  {
   "cell_type": "code",
   "execution_count": 7,
   "metadata": {},
   "outputs": [
    {
     "name": "stderr",
     "output_type": "stream",
     "text": [
      "2022-03-22 04:30:56.498667: I tensorflow/compiler/mlir/mlir_graph_optimization_pass.cc:116] None of the MLIR optimization passes are enabled (registered 2)\n",
      "2022-03-22 04:30:56.519340: I tensorflow/core/platform/profile_utils/cpu_utils.cc:112] CPU Frequency: 2593905000 Hz\n"
     ]
    },
    {
     "name": "stdout",
     "output_type": "stream",
     "text": [
      "Epoch 1/30\n",
      "112/112 - 11s - loss: 2.2235e-06 - fn: 40.0000 - fp: 26133.0000 - tn: 201296.0000 - tp: 377.0000 - precision: 0.0142 - recall: 0.9041 - val_loss: 0.0536 - val_fn: 11.0000 - val_fp: 435.0000 - val_tn: 56451.0000 - val_tp: 64.0000 - val_precision: 0.1283 - val_recall: 0.8533\n",
      "Epoch 2/30\n",
      "112/112 - 6s - loss: 1.5661e-06 - fn: 35.0000 - fp: 7696.0000 - tn: 219733.0000 - tp: 382.0000 - precision: 0.0473 - recall: 0.9161 - val_loss: 0.0700 - val_fn: 10.0000 - val_fp: 398.0000 - val_tn: 56488.0000 - val_tp: 65.0000 - val_precision: 0.1404 - val_recall: 0.8667\n",
      "Epoch 3/30\n",
      "112/112 - 6s - loss: 1.2005e-06 - fn: 32.0000 - fp: 6116.0000 - tn: 221313.0000 - tp: 385.0000 - precision: 0.0592 - recall: 0.9233 - val_loss: 0.1051 - val_fn: 7.0000 - val_fp: 1678.0000 - val_tn: 55208.0000 - val_tp: 68.0000 - val_precision: 0.0389 - val_recall: 0.9067\n",
      "Epoch 4/30\n",
      "112/112 - 6s - loss: 1.0635e-06 - fn: 24.0000 - fp: 7354.0000 - tn: 220075.0000 - tp: 393.0000 - precision: 0.0507 - recall: 0.9424 - val_loss: 0.0628 - val_fn: 9.0000 - val_fp: 1129.0000 - val_tn: 55757.0000 - val_tp: 66.0000 - val_precision: 0.0552 - val_recall: 0.8800\n",
      "Epoch 5/30\n",
      "112/112 - 6s - loss: 1.0128e-06 - fn: 20.0000 - fp: 7276.0000 - tn: 220153.0000 - tp: 397.0000 - precision: 0.0517 - recall: 0.9520 - val_loss: 0.0994 - val_fn: 7.0000 - val_fp: 1417.0000 - val_tn: 55469.0000 - val_tp: 68.0000 - val_precision: 0.0458 - val_recall: 0.9067\n",
      "Epoch 6/30\n",
      "112/112 - 6s - loss: 8.0933e-07 - fn: 19.0000 - fp: 7016.0000 - tn: 220413.0000 - tp: 398.0000 - precision: 0.0537 - recall: 0.9544 - val_loss: 0.1075 - val_fn: 8.0000 - val_fp: 884.0000 - val_tn: 56002.0000 - val_tp: 67.0000 - val_precision: 0.0705 - val_recall: 0.8933\n",
      "Epoch 7/30\n",
      "112/112 - 6s - loss: 6.7355e-07 - fn: 14.0000 - fp: 5125.0000 - tn: 222304.0000 - tp: 403.0000 - precision: 0.0729 - recall: 0.9664 - val_loss: 0.0454 - val_fn: 9.0000 - val_fp: 533.0000 - val_tn: 56353.0000 - val_tp: 66.0000 - val_precision: 0.1102 - val_recall: 0.8800\n",
      "Epoch 8/30\n",
      "112/112 - 6s - loss: 6.9505e-07 - fn: 11.0000 - fp: 6622.0000 - tn: 220807.0000 - tp: 406.0000 - precision: 0.0578 - recall: 0.9736 - val_loss: 0.0235 - val_fn: 12.0000 - val_fp: 263.0000 - val_tn: 56623.0000 - val_tp: 63.0000 - val_precision: 0.1933 - val_recall: 0.8400\n",
      "Epoch 9/30\n",
      "112/112 - 6s - loss: 7.5071e-07 - fn: 15.0000 - fp: 6060.0000 - tn: 221369.0000 - tp: 402.0000 - precision: 0.0622 - recall: 0.9640 - val_loss: 0.0541 - val_fn: 10.0000 - val_fp: 1085.0000 - val_tn: 55801.0000 - val_tp: 65.0000 - val_precision: 0.0565 - val_recall: 0.8667\n",
      "Epoch 10/30\n",
      "112/112 - 6s - loss: 7.5180e-07 - fn: 13.0000 - fp: 7239.0000 - tn: 220190.0000 - tp: 404.0000 - precision: 0.0529 - recall: 0.9688 - val_loss: 0.0612 - val_fn: 7.0000 - val_fp: 1305.0000 - val_tn: 55581.0000 - val_tp: 68.0000 - val_precision: 0.0495 - val_recall: 0.9067\n",
      "Epoch 11/30\n",
      "112/112 - 6s - loss: 1.0952e-06 - fn: 16.0000 - fp: 7277.0000 - tn: 220152.0000 - tp: 401.0000 - precision: 0.0522 - recall: 0.9616 - val_loss: 0.0836 - val_fn: 9.0000 - val_fp: 1117.0000 - val_tn: 55769.0000 - val_tp: 66.0000 - val_precision: 0.0558 - val_recall: 0.8800\n",
      "Epoch 12/30\n",
      "112/112 - 6s - loss: 7.2412e-07 - fn: 13.0000 - fp: 5782.0000 - tn: 221647.0000 - tp: 404.0000 - precision: 0.0653 - recall: 0.9688 - val_loss: 0.0805 - val_fn: 7.0000 - val_fp: 1375.0000 - val_tn: 55511.0000 - val_tp: 68.0000 - val_precision: 0.0471 - val_recall: 0.9067\n",
      "Epoch 13/30\n",
      "112/112 - 6s - loss: 6.6142e-07 - fn: 10.0000 - fp: 5093.0000 - tn: 222336.0000 - tp: 407.0000 - precision: 0.0740 - recall: 0.9760 - val_loss: 0.0548 - val_fn: 10.0000 - val_fp: 542.0000 - val_tn: 56344.0000 - val_tp: 65.0000 - val_precision: 0.1071 - val_recall: 0.8667\n",
      "Epoch 14/30\n",
      "112/112 - 6s - loss: 7.8030e-07 - fn: 13.0000 - fp: 7315.0000 - tn: 220114.0000 - tp: 404.0000 - precision: 0.0523 - recall: 0.9688 - val_loss: 0.0677 - val_fn: 7.0000 - val_fp: 802.0000 - val_tn: 56084.0000 - val_tp: 68.0000 - val_precision: 0.0782 - val_recall: 0.9067\n",
      "Epoch 15/30\n",
      "112/112 - 6s - loss: 8.4808e-07 - fn: 11.0000 - fp: 4748.0000 - tn: 222681.0000 - tp: 406.0000 - precision: 0.0788 - recall: 0.9736 - val_loss: 0.0291 - val_fn: 9.0000 - val_fp: 502.0000 - val_tn: 56384.0000 - val_tp: 66.0000 - val_precision: 0.1162 - val_recall: 0.8800\n",
      "Epoch 16/30\n",
      "112/112 - 6s - loss: 9.2969e-07 - fn: 9.0000 - fp: 5396.0000 - tn: 222033.0000 - tp: 408.0000 - precision: 0.0703 - recall: 0.9784 - val_loss: 0.0290 - val_fn: 10.0000 - val_fp: 311.0000 - val_tn: 56575.0000 - val_tp: 65.0000 - val_precision: 0.1729 - val_recall: 0.8667\n",
      "Epoch 17/30\n",
      "112/112 - 6s - loss: 1.9364e-06 - fn: 16.0000 - fp: 6300.0000 - tn: 221129.0000 - tp: 401.0000 - precision: 0.0598 - recall: 0.9616 - val_loss: 0.0959 - val_fn: 8.0000 - val_fp: 1467.0000 - val_tn: 55419.0000 - val_tp: 67.0000 - val_precision: 0.0437 - val_recall: 0.8933\n",
      "Epoch 18/30\n",
      "112/112 - 6s - loss: 1.2847e-06 - fn: 9.0000 - fp: 4564.0000 - tn: 222865.0000 - tp: 408.0000 - precision: 0.0821 - recall: 0.9784 - val_loss: 0.0628 - val_fn: 9.0000 - val_fp: 961.0000 - val_tn: 55925.0000 - val_tp: 66.0000 - val_precision: 0.0643 - val_recall: 0.8800\n",
      "Epoch 19/30\n",
      "112/112 - 6s - loss: 1.2901e-06 - fn: 14.0000 - fp: 6318.0000 - tn: 221111.0000 - tp: 403.0000 - precision: 0.0600 - recall: 0.9664 - val_loss: 0.0638 - val_fn: 9.0000 - val_fp: 909.0000 - val_tn: 55977.0000 - val_tp: 66.0000 - val_precision: 0.0677 - val_recall: 0.8800\n",
      "Epoch 20/30\n",
      "112/112 - 6s - loss: 6.9403e-07 - fn: 9.0000 - fp: 3710.0000 - tn: 223719.0000 - tp: 408.0000 - precision: 0.0991 - recall: 0.9784 - val_loss: 0.1177 - val_fn: 6.0000 - val_fp: 1739.0000 - val_tn: 55147.0000 - val_tp: 69.0000 - val_precision: 0.0382 - val_recall: 0.9200\n",
      "Epoch 21/30\n",
      "112/112 - 6s - loss: 1.1076e-06 - fn: 14.0000 - fp: 5864.0000 - tn: 221565.0000 - tp: 403.0000 - precision: 0.0643 - recall: 0.9664 - val_loss: 0.0493 - val_fn: 10.0000 - val_fp: 525.0000 - val_tn: 56361.0000 - val_tp: 65.0000 - val_precision: 0.1102 - val_recall: 0.8667\n",
      "Epoch 22/30\n",
      "112/112 - 6s - loss: 5.7345e-07 - fn: 8.0000 - fp: 4110.0000 - tn: 223319.0000 - tp: 409.0000 - precision: 0.0905 - recall: 0.9808 - val_loss: 0.0242 - val_fn: 11.0000 - val_fp: 409.0000 - val_tn: 56477.0000 - val_tp: 64.0000 - val_precision: 0.1353 - val_recall: 0.8533\n",
      "Epoch 23/30\n",
      "112/112 - 6s - loss: 4.3125e-07 - fn: 6.0000 - fp: 3782.0000 - tn: 223647.0000 - tp: 411.0000 - precision: 0.0980 - recall: 0.9856 - val_loss: 0.0324 - val_fn: 10.0000 - val_fp: 484.0000 - val_tn: 56402.0000 - val_tp: 65.0000 - val_precision: 0.1184 - val_recall: 0.8667\n",
      "Epoch 24/30\n",
      "112/112 - 6s - loss: 6.6264e-07 - fn: 5.0000 - fp: 3731.0000 - tn: 223698.0000 - tp: 412.0000 - precision: 0.0994 - recall: 0.9880 - val_loss: 0.0546 - val_fn: 13.0000 - val_fp: 399.0000 - val_tn: 56487.0000 - val_tp: 62.0000 - val_precision: 0.1345 - val_recall: 0.8267\n",
      "Epoch 25/30\n",
      "112/112 - 6s - loss: 3.7293e-07 - fn: 7.0000 - fp: 2925.0000 - tn: 224504.0000 - tp: 410.0000 - precision: 0.1229 - recall: 0.9832 - val_loss: 0.0180 - val_fn: 13.0000 - val_fp: 303.0000 - val_tn: 56583.0000 - val_tp: 62.0000 - val_precision: 0.1699 - val_recall: 0.8267\n",
      "Epoch 26/30\n",
      "112/112 - 6s - loss: 3.4145e-07 - fn: 3.0000 - fp: 2337.0000 - tn: 225092.0000 - tp: 414.0000 - precision: 0.1505 - recall: 0.9928 - val_loss: 0.0092 - val_fn: 15.0000 - val_fp: 106.0000 - val_tn: 56780.0000 - val_tp: 60.0000 - val_precision: 0.3614 - val_recall: 0.8000\n",
      "Epoch 27/30\n",
      "112/112 - 6s - loss: 3.1502e-07 - fn: 3.0000 - fp: 2282.0000 - tn: 225147.0000 - tp: 414.0000 - precision: 0.1536 - recall: 0.9928 - val_loss: 0.0078 - val_fn: 13.0000 - val_fp: 116.0000 - val_tn: 56770.0000 - val_tp: 62.0000 - val_precision: 0.3483 - val_recall: 0.8267\n",
      "Epoch 28/30\n",
      "112/112 - 6s - loss: 2.6047e-07 - fn: 2.0000 - fp: 2820.0000 - tn: 224609.0000 - tp: 415.0000 - precision: 0.1283 - recall: 0.9952 - val_loss: 0.0221 - val_fn: 9.0000 - val_fp: 423.0000 - val_tn: 56463.0000 - val_tp: 66.0000 - val_precision: 0.1350 - val_recall: 0.8800\n",
      "Epoch 29/30\n",
      "112/112 - 6s - loss: 1.5719e-07 - fn: 0.0000e+00 - fp: 1965.0000 - tn: 225464.0000 - tp: 417.0000 - precision: 0.1751 - recall: 1.0000 - val_loss: 0.0082 - val_fn: 14.0000 - val_fp: 107.0000 - val_tn: 56779.0000 - val_tp: 61.0000 - val_precision: 0.3631 - val_recall: 0.8133\n",
      "Epoch 30/30\n",
      "112/112 - 7s - loss: 1.6221e-07 - fn: 1.0000 - fp: 1693.0000 - tn: 225736.0000 - tp: 416.0000 - precision: 0.1972 - recall: 0.9976 - val_loss: 0.0087 - val_fn: 12.0000 - val_fp: 148.0000 - val_tn: 56738.0000 - val_tp: 63.0000 - val_precision: 0.2986 - val_recall: 0.8400\n"
     ]
    },
    {
     "data": {
      "text/plain": [
       "<tensorflow.python.keras.callbacks.History at 0x7f40b4f46100>"
      ]
     },
     "execution_count": 7,
     "metadata": {},
     "output_type": "execute_result"
    }
   ],
   "source": [
    "metrics = [\n",
    "    keras.metrics.FalseNegatives(name=\"fn\"),\n",
    "    keras.metrics.FalsePositives(name=\"fp\"),\n",
    "    keras.metrics.TrueNegatives(name=\"tn\"),\n",
    "    keras.metrics.TruePositives(name=\"tp\"),\n",
    "    keras.metrics.Precision(name=\"precision\"),\n",
    "    keras.metrics.Recall(name=\"recall\"),\n",
    "]\n",
    "\n",
    "model.compile(\n",
    "    optimizer=keras.optimizers.Adam(1e-2), loss=\"binary_crossentropy\", metrics=metrics\n",
    ")\n",
    "\n",
    "callbacks = [keras.callbacks.ModelCheckpoint(\"fraud_model_at_epoch_{epoch}.h5\")]\n",
    "class_weight = {0: weight_for_0, 1: weight_for_1}\n",
    "\n",
    "model.fit(\n",
    "    train_features,\n",
    "    train_targets,\n",
    "    batch_size=2048,\n",
    "    epochs=30,\n",
    "    verbose=2,\n",
    "    callbacks=callbacks,\n",
    "    validation_data=(val_features, val_targets),\n",
    "    class_weight=class_weight,\n",
    ")"
   ]
  },
  {
   "cell_type": "markdown",
   "metadata": {},
   "source": [
    "## Conclusiones\n",
    "* Número de transacciones de validación.\n",
    "* Número de casos identificados correctamente como fraudulentos.\n",
    "* Número de transacciones fraudulentas faltantes.\n",
    "* Costo de etiquetar 441 transacciones legítimas.\n",
    "Recomendaciones: Colocar un peso mayor en la clase 1 para reflejar que los falsos negativos son más costosos que los falsos positivos.\n"
   ]
  }
 ],
 "metadata": {
  "kernelspec": {
   "display_name": "Python 3",
   "language": "python",
   "name": "python3"
  },
  "language_info": {
   "codemirror_mode": {
    "name": "ipython",
    "version": 3
   },
   "file_extension": ".py",
   "mimetype": "text/x-python",
   "name": "python",
   "nbconvert_exporter": "python",
   "pygments_lexer": "ipython3",
   "version": "3.9.7"
  },
  "orig_nbformat": 2
 },
 "nbformat": 4,
 "nbformat_minor": 2
}
