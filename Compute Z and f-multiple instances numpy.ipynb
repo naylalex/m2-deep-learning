{
 "cells": [
  {
   "cell_type": "markdown",
   "metadata": {},
   "source": [
    "# Cálculo de suma ponderada Z e implementación de función de activación con múltiples instancias (vectores y matrices de numpy)\n",
    "\n",
    "Objetivo: Mostrar los principios básicos de cálculo de la suma ponderada y función de activación considerando:\n",
    "* Clasificación binaria.\n",
    "* 4 instancias de entrenamiento con 3 variables independientes.\n",
    "* Implementación con los tipos de datos de la librería numpy.\n",
    "\n",
    "Definiciones:\n",
    "\n",
    "X:\n",
    "  Instancias con las tres variables independientes.\n",
    "  Arreglo numpy con dimensiones (4, 3).\n",
    "  [\n",
    "    x1_1, x1_2, x1_3\n",
    "    x2_1, x2_2, x2_3\n",
    "    x3_1, x3_2, x3_3\n",
    "    x4_1, x4_2, x4_3\n",
    "  ]\n",
    "\n",
    "Y: \n",
    "  Variables dependientes asociadas a las instancias.\n",
    "  Arreglo numpy con dimensiones (4, 1).\n",
    "  [ \n",
    "    y1\n",
    "    y2\n",
    "    y3\n",
    "    y4\n",
    "  ]\n",
    "\n",
    "w:\n",
    "  Pesos correspondientes a cada variable independiente.\n",
    "  Nota: Se emplean los mismos pesos en todas las instancias.\n",
    "  Arreglo numpy con dimensiones (1, 3).\n",
    "  [\n",
    "    w1, w2, w3\n",
    "  ]\n",
    "\n",
    "b:\n",
    "  El bias del modelo.\n",
    "  float de Python.\n",
    "\n",
    "Z:\n",
    "  Resultado de la suma ponderada.\n",
    "  [\n",
    "    z1\n",
    "    z2\n",
    "    z3\n",
    "    z4\n",
    "  ]\n",
    "  \n",
    "f:\n",
    "  La función de activación.\n",
    "\n",
    "Y_hat:\n",
    "  Predicción del modelo, resultado de invocar f(Z).\n",
    "  arreglo numpy con dimensiones (4, 1)"
   ]
  },
  {
   "cell_type": "code",
   "execution_count": 1,
   "metadata": {},
   "outputs": [],
   "source": [
    "import numpy as np"
   ]
  },
  {
   "cell_type": "code",
   "execution_count": 2,
   "metadata": {},
   "outputs": [],
   "source": [
    "X = np.array( [\n",
    "  [1, 2, 3],\n",
    "  [10, 20, 30],\n",
    "  [4, 8, 12],\n",
    "  [11, 21, 31]\n",
    "])"
   ]
  },
  {
   "cell_type": "code",
   "execution_count": 3,
   "metadata": {},
   "outputs": [
    {
     "data": {
      "text/plain": [
       "(4, 3)"
      ]
     },
     "execution_count": 3,
     "metadata": {},
     "output_type": "execute_result"
    }
   ],
   "source": [
    "X.shape"
   ]
  },
  {
   "cell_type": "code",
   "execution_count": 4,
   "metadata": {},
   "outputs": [
    {
     "data": {
      "text/plain": [
       "3"
      ]
     },
     "execution_count": 4,
     "metadata": {},
     "output_type": "execute_result"
    }
   ],
   "source": [
    "n_vars = X.shape[1]\n",
    "n_vars"
   ]
  },
  {
   "cell_type": "code",
   "execution_count": 5,
   "metadata": {},
   "outputs": [
    {
     "data": {
      "text/plain": [
       "4"
      ]
     },
     "execution_count": 5,
     "metadata": {},
     "output_type": "execute_result"
    }
   ],
   "source": [
    "n_instances = X.shape[0]\n",
    "n_instances"
   ]
  },
  {
   "cell_type": "code",
   "execution_count": 6,
   "metadata": {},
   "outputs": [],
   "source": [
    "Y = np.array([[1], [-1], [1], [-1]])"
   ]
  },
  {
   "cell_type": "code",
   "execution_count": 7,
   "metadata": {},
   "outputs": [
    {
     "data": {
      "text/plain": [
       "(4, 1)"
      ]
     },
     "execution_count": 7,
     "metadata": {},
     "output_type": "execute_result"
    }
   ],
   "source": [
    "Y.shape"
   ]
  },
  {
   "cell_type": "code",
   "execution_count": 8,
   "metadata": {},
   "outputs": [
    {
     "data": {
      "text/plain": [
       "array([[ 1],\n",
       "       [-1],\n",
       "       [ 1],\n",
       "       [-1]])"
      ]
     },
     "execution_count": 8,
     "metadata": {},
     "output_type": "execute_result"
    }
   ],
   "source": [
    "Y\n"
   ]
  },
  {
   "cell_type": "code",
   "execution_count": 9,
   "metadata": {},
   "outputs": [
    {
     "data": {
      "text/plain": [
       "array([[0.08718668, 0.40724176, 0.10770023]])"
      ]
     },
     "execution_count": 9,
     "metadata": {},
     "output_type": "execute_result"
    }
   ],
   "source": [
    "np.random.seed(123)\n",
    "# Asignamos valores fijos para comparar resultados con los ejercicios previos\n",
    "w = np.array([[0.08718667752263232, 0.4072417636703983, 0.10770023493843905]])\n",
    "# Asignación de valores aleatorios con numpy\n",
    "#w = np.random.rand(n_vars).reshape(-1, 1)\n",
    "w\n"
   ]
  },
  {
   "cell_type": "code",
   "execution_count": 10,
   "metadata": {},
   "outputs": [
    {
     "data": {
      "text/plain": [
       "(1, 3)"
      ]
     },
     "execution_count": 10,
     "metadata": {},
     "output_type": "execute_result"
    }
   ],
   "source": [
    "w.shape"
   ]
  },
  {
   "cell_type": "code",
   "execution_count": 11,
   "metadata": {},
   "outputs": [
    {
     "data": {
      "text/plain": [
       "0.9011988779516946"
      ]
     },
     "execution_count": 11,
     "metadata": {},
     "output_type": "execute_result"
    }
   ],
   "source": [
    "import random\n",
    "random.seed(123)\n",
    "b = random.random()\n",
    "# Asignamos valores fijos para comparar resultados con los ejercicios previos\n",
    "b = 0.9011988779516946\n",
    "b"
   ]
  },
  {
   "cell_type": "code",
   "execution_count": 12,
   "metadata": {},
   "outputs": [
    {
     "name": "stdout",
     "output_type": "stream",
     "text": [
      "[[ 1  2  3]\n",
      " [10 20 30]\n",
      " [ 4  8 12]\n",
      " [11 21 31]]\n",
      "[[0.08718668 0.40724176 0.10770023]]\n",
      "0.9011988779516946\n",
      "[[ 1]\n",
      " [-1]\n",
      " [ 1]\n",
      " [-1]]\n"
     ]
    }
   ],
   "source": [
    "print(X)\n",
    "print(w)\n",
    "print(b)\n",
    "print(Y)"
   ]
  },
  {
   "cell_type": "code",
   "execution_count": 13,
   "metadata": {},
   "outputs": [
    {
     "data": {
      "text/plain": [
       "array([[ 2.12596979],\n",
       "       [13.14890797],\n",
       "       [ 5.80028252],\n",
       "       [13.75103665]])"
      ]
     },
     "execution_count": 13,
     "metadata": {},
     "output_type": "execute_result"
    }
   ],
   "source": [
    "Z = b + np.dot(X, w.T)\n",
    "Z"
   ]
  },
  {
   "cell_type": "code",
   "execution_count": 15,
   "metadata": {},
   "outputs": [],
   "source": [
    "def f(Z):\n",
    "    return np.sign(Z)"
   ]
  },
  {
   "cell_type": "code",
   "execution_count": 16,
   "metadata": {},
   "outputs": [
    {
     "data": {
      "text/plain": [
       "array([[1.],\n",
       "       [1.],\n",
       "       [1.],\n",
       "       [1.]])"
      ]
     },
     "execution_count": 16,
     "metadata": {},
     "output_type": "execute_result"
    }
   ],
   "source": [
    "Y_hat = f(Z)\n",
    "Y_hat"
   ]
  }
 ],
 "metadata": {
  "kernelspec": {
   "display_name": "Python 3",
   "language": "python",
   "name": "python3"
  },
  "language_info": {
   "codemirror_mode": {
    "name": "ipython",
    "version": 3
   },
   "file_extension": ".py",
   "mimetype": "text/x-python",
   "name": "python",
   "nbconvert_exporter": "python",
   "pygments_lexer": "ipython3",
   "version": "3.11.5"
  }
 },
 "nbformat": 4,
 "nbformat_minor": 2
}
