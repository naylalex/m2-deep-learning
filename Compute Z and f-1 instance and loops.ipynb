{
 "cells": [
  {
   "cell_type": "markdown",
   "metadata": {},
   "source": [
    "# Calculo de suma ponderada Z e implementación de función de activación f() con una instancia (tipos de dato estándar y ciclos)\n",
    "\n",
    "Objetivo: Mostrar los principios básicos de cálculo de la suma ponderada y función de activación considerando:\n",
    "* Clasificación binaria.\n",
    "* Una sola instancia de entrenamiento con 3 variables independientes.\n",
    "* Implementación con tipos de datos de la librería estándar de Python.\n",
    "\n",
    "Definiciones:\n",
    "\n",
    "x:\n",
    "  Instancia con las tres variables independientes.\n",
    "\n",
    "y: \n",
    "  Variable dependiente asociada a la instancia.\n",
    "\n",
    "w:\n",
    "  Pesos correspondientes a cada variable independiente.\n",
    "\n",
    "b:\n",
    "  El bias del modelo.\n",
    "\n",
    "z:\n",
    "  Resultado de la suma ponderada.\n",
    "\n",
    "f:\n",
    "  La función de activación."
   ]
  },
  {
   "cell_type": "markdown",
   "metadata": {},
   "source": [
    "Definimos la instancia `x`."
   ]
  },
  {
   "cell_type": "code",
   "execution_count": 8,
   "metadata": {},
   "outputs": [],
   "source": [
    "x = [1, 2, 3]"
   ]
  },
  {
   "cell_type": "markdown",
   "metadata": {},
   "source": [
    "Definimos la variable dependiente `y`."
   ]
  },
  {
   "cell_type": "code",
   "execution_count": 9,
   "metadata": {},
   "outputs": [],
   "source": [
    "y = 1"
   ]
  },
  {
   "cell_type": "markdown",
   "metadata": {},
   "source": [
    "`n_vars` es una variable auxiliar que representa la cantidad de variables de la instancia."
   ]
  },
  {
   "cell_type": "code",
   "execution_count": 10,
   "metadata": {},
   "outputs": [],
   "source": [
    "n_vars = len(x)"
   ]
  },
  {
   "cell_type": "markdown",
   "metadata": {},
   "source": [
    "Los pesos se inicializan de forma aleatoria. La librería random produce números pseudo aleatorios para múltiples distribuciones. Generaremos valores pseudo aleatorios en una distribución uniforme entre 0 y 1.\n",
    "\n",
    "La función `random.random()` genera un solo valor. En este ejemplo requerimos de tres valores.\n",
    "\n",
    "Para efectos de reproducibilidad de este notebook fijaremos una raíz para el generador de pseudo aleatorios. Esto no es necesario para un entrenamiento productivo de una red neuronal.\n",
    "\n",
    "[Referencia al módulo random de Python](https://docs.python.org/3/library/random.html)"
   ]
  },
  {
   "cell_type": "code",
   "execution_count": 11,
   "metadata": {},
   "outputs": [
    {
     "data": {
      "text/plain": [
       "0.052363598850944326"
      ]
     },
     "execution_count": 11,
     "metadata": {},
     "output_type": "execute_result"
    }
   ],
   "source": [
    "import random\n",
    "random.seed(123)\n",
    "random.random()\n"
   ]
  },
  {
   "cell_type": "markdown",
   "metadata": {},
   "source": [
    "Inicializaremos `w` con los pesos correspondientes a cada una de las variables.\n",
    "\n",
    "La implementación emplea la característica list comprehension de Python."
   ]
  },
  {
   "cell_type": "code",
   "execution_count": 12,
   "metadata": {},
   "outputs": [
    {
     "data": {
      "text/plain": [
       "[0.08718667752263232, 0.4072417636703983, 0.10770023493843905]"
      ]
     },
     "execution_count": 12,
     "metadata": {},
     "output_type": "execute_result"
    }
   ],
   "source": [
    "w = [random.random() for _ in range(n_vars)]\n",
    "w"
   ]
  },
  {
   "cell_type": "markdown",
   "metadata": {},
   "source": [
    "El bias también se inicializa de forma aleatoria."
   ]
  },
  {
   "cell_type": "code",
   "execution_count": 13,
   "metadata": {},
   "outputs": [
    {
     "data": {
      "text/plain": [
       "0.9011988779516946"
      ]
     },
     "execution_count": 13,
     "metadata": {},
     "output_type": "execute_result"
    }
   ],
   "source": [
    "b = random.random()\n",
    "b"
   ]
  },
  {
   "cell_type": "markdown",
   "metadata": {},
   "source": [
    "Implementaremos el cálculo de la suma ponderada con un procedimiento iterativo.\n",
    "\n",
    "A continuación los datos que serán empleados en el cálculo."
   ]
  },
  {
   "cell_type": "code",
   "execution_count": 19,
   "metadata": {},
   "outputs": [
    {
     "name": "stdout",
     "output_type": "stream",
     "text": [
      "[1, 2, 3]\n",
      "[0.08718667752263232, 0.4072417636703983, 0.10770023493843905]\n",
      "0.9011988779516946\n",
      "1\n"
     ]
    }
   ],
   "source": [
    "print(x)\n",
    "print(w)\n",
    "print(b)\n",
    "print(y)"
   ]
  },
  {
   "cell_type": "code",
   "execution_count": 20,
   "metadata": {},
   "outputs": [
    {
     "data": {
      "text/plain": [
       "2.1259697876304404"
      ]
     },
     "execution_count": 20,
     "metadata": {},
     "output_type": "execute_result"
    }
   ],
   "source": [
    "wx = 0\n",
    "for i in range(n_vars):\n",
    "    wx = wx + w[i] * x [i]\n",
    "z = b + wx\n",
    "z"
   ]
  },
  {
   "cell_type": "markdown",
   "metadata": {},
   "source": [
    "El conjunto de estatutos de la celda anterior realizan un cálculo similar al siguiente:"
   ]
  },
  {
   "cell_type": "code",
   "execution_count": 21,
   "metadata": {},
   "outputs": [
    {
     "data": {
      "text/plain": [
       "2.1259697876304404"
      ]
     },
     "execution_count": 21,
     "metadata": {},
     "output_type": "execute_result"
    }
   ],
   "source": [
    "res = 0\n",
    "res = res + w[0] * x[0]\n",
    "res = res + w[1] * x[1]\n",
    "res = res + w[2] * x[2]\n",
    "res = res + b\n",
    "res\n"
   ]
  },
  {
   "cell_type": "markdown",
   "metadata": {},
   "source": [
    "Definiremos la función de activación `f`.\n",
    "\n",
    "Para el caso del perceptrón la función de activación es `sign`.\n",
    "\n",
    "Emplearemos la función `math.copysign`. \n",
    "\n",
    "Consulta los detalles de por qué Python no implementa la función `sign` en [este artículo](https://stackoverflow.com/questions/1986152/why-doesnt-python-have-a-sign-function)."
   ]
  },
  {
   "cell_type": "code",
   "execution_count": 22,
   "metadata": {},
   "outputs": [],
   "source": [
    "import math\n",
    "def f(z):\n",
    "    return math.copysign(1, z)"
   ]
  },
  {
   "cell_type": "markdown",
   "metadata": {},
   "source": [
    "Invocaremos f(z)"
   ]
  },
  {
   "cell_type": "code",
   "execution_count": 23,
   "metadata": {},
   "outputs": [
    {
     "data": {
      "text/plain": [
       "1.0"
      ]
     },
     "execution_count": 23,
     "metadata": {},
     "output_type": "execute_result"
    }
   ],
   "source": [
    "f(z)"
   ]
  }
 ],
 "metadata": {
  "kernelspec": {
   "display_name": "class",
   "language": "python",
   "name": "python3"
  },
  "language_info": {
   "codemirror_mode": {
    "name": "ipython",
    "version": 3
   },
   "file_extension": ".py",
   "mimetype": "text/x-python",
   "name": "python",
   "nbconvert_exporter": "python",
   "pygments_lexer": "ipython3",
   "version": "3.11.5"
  }
 },
 "nbformat": 4,
 "nbformat_minor": 2
}
